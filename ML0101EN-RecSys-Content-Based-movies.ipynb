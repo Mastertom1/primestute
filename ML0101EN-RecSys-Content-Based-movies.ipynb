{
 "cells":[
  {
   "cell_type":"markdown",
   "source":[
    "<center>\n",
    "    <img src=\"https:\/\/cf-courses-data.s3.us.cloud-object-storage.appdomain.cloud\/IBMDeveloperSkillsNetwork-ML0101EN-SkillsNetwork\/labs\/Module%205\/images\/IDSNlogo.png\" width=\"300\" alt=\"cognitiveclass.ai logo\"  \/>\n",
    "<\/center>\n",
    "\n",
    "# Content Based Filtering\n",
    "\n",
    "Estimated time needed: **25** minutes\n",
    "\n",
    "## Objectives\n",
    "\n",
    "After completing this lab you will be able to:\n",
    "\n",
    "*   Create a recommendation system using Content Based filtering"
   ],
   "attachments":{
    
   },
   "metadata":{
    "datalore":{
     "type":"MD",
     "hide_input_from_viewers":false,
     "hide_output_from_viewers":false
    }
   }
  },
  {
   "cell_type":"markdown",
   "source":[
    "Recommendation systems are a collection of algorithms used to recommend items to users based on information taken from the user. These systems have become ubiquitous, and can be commonly seen in online stores, movies databases and job finders. In this notebook, we will explore Content-based recommendation systems and implement a simple version of one using Python and the Pandas library."
   ],
   "attachments":{
    
   },
   "metadata":{
    "datalore":{
     "type":"MD",
     "hide_input_from_viewers":false,
     "hide_output_from_viewers":false
    }
   }
  },
  {
   "cell_type":"markdown",
   "source":[
    "### Table of contents\n",
    "\n",
    "<div class=\"alert alert-block alert-info\" style=\"margin-top: 20px\">\n",
    "    <ol>\n",
    "        <li><a href=\"https:\/\/#ref1\">Acquiring the Data<\/a><\/li>\n",
    "        <li><a href=\"https:\/\/#ref2\">Preprocessing<\/a><\/li>\n",
    "        <li><a href=\"https:\/\/#ref3\">Content-Based Filtering<\/a><\/li>\n",
    "    <\/ol>\n",
    "<\/div>\n",
    "<br>"
   ],
   "attachments":{
    
   },
   "metadata":{
    "datalore":{
     "type":"MD",
     "hide_input_from_viewers":false,
     "hide_output_from_viewers":false
    }
   }
  },
  {
   "cell_type":"markdown",
   "source":[
    "<a id=\"ref1\"><\/a>\n",
    "\n",
    "# Acquiring the Data"
   ],
   "attachments":{
    
   },
   "metadata":{
    "datalore":{
     "type":"MD",
     "hide_input_from_viewers":false,
     "hide_output_from_viewers":false
    }
   }
  },
  {
   "cell_type":"markdown",
   "source":[
    "To acquire and extract the data, simply run the following Bash scripts:\\\n",
    "Dataset acquired from [GroupLens](http:\/\/grouplens.org\/datasets\/movielens\/?utm_medium=Exinfluencer&utm_source=Exinfluencer&utm_content=000026UJ&utm_term=10006555&utm_id=NA-SkillsNetwork-Channel-SkillsNetworkCoursesIBMDeveloperSkillsNetworkML0101ENSkillsNetwork20718538-2021-01-01). Let's download the dataset. To download the data, we will use **`!wget`** to download it from IBM Object Storage.\\\n",
    "**Did you know?** When it comes to Machine Learning, you will likely be working with large datasets. As a business, where can you host your data? IBM is offering a unique opportunity for businesses, with 10 Tb of IBM Cloud Object Storage: [Sign up now for free](http:\/\/cocl.us\/ML0101EN-IBM-Offer-CC)"
   ],
   "attachments":{
    
   },
   "metadata":{
    "datalore":{
     "type":"MD",
     "hide_input_from_viewers":false,
     "hide_output_from_viewers":false
    }
   }
  },
  {
   "cell_type":"code",
   "source":[
    "!wget -O moviedataset.zip https:\/\/cf-courses-data.s3.us.cloud-object-storage.appdomain.cloud\/IBMDeveloperSkillsNetwork-ML0101EN-SkillsNetwork\/labs\/Module%205\/data\/moviedataset.zip\n",
    "print('unziping ...')\n",
    "!unzip -o -j moviedataset.zip "
   ],
   "execution_count":1,
   "outputs":[
    {
     "name":"stdout",
     "text":[
      "--2022-04-09 13:17:24--  https:\/\/cf-courses-data.s3.us.cloud-object-storage.appdomain.cloud\/IBMDeveloperSkillsNetwork-ML0101EN-SkillsNetwork\/labs\/Module%205\/data\/moviedataset.zip\r\n",
      "Resolving cf-courses-data.s3.us.cloud-object-storage.appdomain.cloud (cf-courses-data.s3.us.cloud-object-storage.appdomain.cloud)... 169.45.118.108\r\n",
      "Connecting to cf-courses-data.s3.us.cloud-object-storage.appdomain.cloud (cf-courses-data.s3.us.cloud-object-storage.appdomain.cloud)|169.45.118.108|:443... connected.\r\n",
      "HTTP request sent, awaiting response... 200 OK\r\n",
      "Length: 160301210 (153M) [application\/zip]\r\n",
      "Saving to: ‘moviedataset.zip’\r\n",
      "\r\n",
      "\rmoviedataset.zip      0%[                    ]       0  --.-KB\/s               \rmoviedataset.zip      0%[                    ]  54.54K   181KB\/s               \rmoviedataset.zip      0%[                    ] 112.00K   185KB\/s               \rmoviedataset.zip      0%[                    ] 264.00K   315KB\/s               \rmoviedataset.zip      0%[                    ] 567.66K   536KB\/s               \rmoviedataset.zip      0%[                    ] 919.66K   726KB\/s               \rmoviedataset.zip      1%[                    ]   1.88M  1.09MB\/s               \rmoviedataset.zip      2%[                    ]   4.13M  2.03MB\/s               \rmoviedataset.zip      3%[                    ]   5.46M  2.34MB\/s               \rmoviedataset.zip      4%[                    ]   6.26M  2.37MB\/s               \rmoviedataset.zip      4%[                    ]   7.21M  2.37MB\/s    eta 61s    \rmoviedataset.zip      5%[>                   ]   8.15M  2.51MB\/s    eta 61s    \rmoviedataset.zip      5%[>                   ]   8.73M  2.60MB\/s    eta 61s    \rmoviedataset.zip      6%[>                   ]   9.38M  2.75MB\/s    eta 61s    \rmoviedataset.zip      6%[>                   ]   9.98M  2.95MB\/s    eta 61s    \rmoviedataset.zip      6%[>                   ]  10.65M  3.08MB\/s    eta 55s    \rmoviedataset.zip      7%[>                   ]  11.26M  3.20MB\/s    eta 55s    \rmoviedataset.zip      7%[>                   ]  11.95M  3.29MB\/s    eta 55s    \rmoviedataset.zip      8%[>                   ]  12.57M  3.42MB\/s    eta 55s    \rmoviedataset.zip      8%[>                   ]  13.27M  3.11MB\/s    eta 55s    \rmoviedataset.zip      9%[>                   ]  13.90M  3.02MB\/s    eta 53s    \rmoviedataset.zip      9%[>                   ]  14.62M  2.89MB\/s    eta 53s    \rmoviedataset.zip      9%[>                   ]  15.24M  2.88MB\/s    eta 53s    \rmoviedataset.zip     10%[=>                  ]  15.96M  3.01MB\/s    eta 53s    \rmoviedataset.zip     10%[=>                  ]  16.60M  2.87MB\/s    eta 53s    \rmoviedataset.zip     11%[=>                  ]  17.32M  2.93MB\/s    eta 50s    \rmoviedataset.zip     11%[=>                  ]  17.97M  2.96MB\/s    eta 50s    \rmoviedataset.zip     12%[=>                  ]  18.49M  2.95MB\/s    eta 50s    \rmoviedataset.zip     12%[=>                  ]  19.16M  2.99MB\/s    eta 50s    \rmoviedataset.zip     12%[=>                  ]  19.79M  2.96MB\/s    eta 50s    \rmoviedataset.zip     13%[=>                  ]  20.51M  3.01MB\/s    eta 48s    \rmoviedataset.zip     13%[=>                  ]  21.16M  2.99MB\/s    eta 48s    \rmoviedataset.zip     14%[=>                  ]  21.88M  3.03MB\/s    eta 48s    \rmoviedataset.zip     14%[=>                  ]  22.52M  3.00MB\/s    eta 48s    \rmoviedataset.zip     15%[==>                 ]  23.24M  3.04MB\/s    eta 48s    \rmoviedataset.zip     15%[==>                 ]  23.90M  3.01MB\/s    eta 47s    \rmoviedataset.zip     16%[==>                 ]  24.62M  3.05MB\/s    eta 47s    \rmoviedataset.zip     16%[==>                 ]  25.26M  3.02MB\/s    eta 47s    \rmoviedataset.zip     16%[==>                 ]  25.99M  3.06MB\/s    eta 47s    \rmoviedataset.zip     17%[==>                 ]  26.65M  3.02MB\/s    eta 47s    \rmoviedataset.zip     17%[==>                 ]  27.38M  3.06MB\/s    eta 45s    \rmoviedataset.zip     18%[==>                 ]  28.05M  3.04MB\/s    eta 45s    \rmoviedataset.zip     18%[==>                 ]  28.77M  3.07MB\/s    eta 45s    \rmoviedataset.zip     19%[==>                 ]  29.44M  3.04MB\/s    eta 45s    \rmoviedataset.zip     19%[==>                 ]  30.18M  3.08MB\/s    eta 45s    \rmoviedataset.zip     20%[===>                ]  30.85M  3.06MB\/s    eta 43s    \rmoviedataset.zip     20%[===>                ]  31.58M  3.10MB\/s    eta 43s    \rmoviedataset.zip     21%[===>                ]  32.26M  3.11MB\/s    eta 43s    \rmoviedataset.zip     21%[===>                ]  32.78M  3.09MB\/s    eta 43s    \rmoviedataset.zip     21%[===>                ]  33.48M  3.12MB\/s    eta 43s    \rmoviedataset.zip     22%[===>                ]  34.15M  3.14MB\/s    eta 41s    \rmoviedataset.zip     22%[===>                ]  34.65M  3.11MB\/s    eta 41s    \rmoviedataset.zip     23%[===>                ]  35.37M  3.14MB\/s    eta 41s    \rmoviedataset.zip     23%[===>                ]  36.05M  3.11MB\/s    eta 41s    \rmoviedataset.zip     24%[===>                ]  36.80M  3.15MB\/s    eta 41s    \rmoviedataset.zip     24%[===>                ]  37.49M  3.12MB\/s    eta 40s    \rmoviedataset.zip     25%[====>               ]  38.23M  3.16MB\/s    eta 40s    \rmoviedataset.zip     25%[====>               ]  38.92M  3.14MB\/s    eta 40s    \rmoviedataset.zip     25%[====>               ]  39.68M  3.18MB\/s    eta 40s    \rmoviedataset.zip     26%[====>               ]  40.36M  3.15MB\/s    eta 40s    \rmoviedataset.zip     26%[====>               ]  41.12M  3.19MB\/s    eta 38s    \rmoviedataset.zip     27%[====>               ]  41.80M  3.16MB\/s    eta 38s    \rmoviedataset.zip     27%[====>               ]  42.57M  3.19MB\/s    eta 38s    \rmoviedataset.zip     28%[====>               ]  43.25M  3.17MB\/s    eta 38s    \rmoviedataset.zip     28%[====>               ]  44.02M  3.21MB\/s    eta 38s    \rmoviedataset.zip     29%[====>               ]  44.71M  3.18MB\/s    eta 37s    \rmoviedataset.zip     29%[====>               ]  45.47M  3.21MB\/s    eta 37s    \rmoviedataset.zip     30%[=====>              ]  46.18M  3.19MB\/s    eta 37s    \rmoviedataset.zip     30%[=====>              ]  46.94M  3.22MB\/s    eta 37s    \rmoviedataset.zip     31%[=====>              ]  47.65M  3.20MB\/s    eta 37s    \rmoviedataset.zip     31%[=====>              ]  48.41M  3.23MB\/s    eta 35s    \rmoviedataset.zip     32%[=====>              ]  49.11M  3.21MB\/s    eta 35s    \rmoviedataset.zip     32%[=====>              ]  49.88M  3.25MB\/s    eta 35s    \rmoviedataset.zip     33%[=====>              ]  50.58M  3.22MB\/s    eta 35s    \rmoviedataset.zip     33%[=====>              ]  51.36M  3.26MB\/s    eta 35s    \rmoviedataset.zip     34%[=====>              ]  52.07M  3.23MB\/s    eta 34s    \rmoviedataset.zip     34%[=====>              ]  52.85M  3.27MB\/s    eta 34s    \rmoviedataset.zip     35%[======>             ]  53.55M  3.25MB\/s    eta 34s    \rmoviedataset.zip     35%[======>             ]  54.33M  3.28MB\/s    eta 34s    \rmoviedataset.zip     36%[======>             ]  55.05M  3.26MB\/s    eta 34s    \rmoviedataset.zip     36%[======>             ]  55.82M  3.29MB\/s    eta 32s    \rmoviedataset.zip     36%[======>             ]  56.54M  3.27MB\/s    eta 32s    \rmoviedataset.zip     37%[======>             ]  57.32M  3.30MB\/s    eta 32s    \rmoviedataset.zip     37%[======>             ]  58.04M  3.28MB\/s    eta 32s    \rmoviedataset.zip     38%[======>             ]  58.82M  3.32MB\/s    eta 32s    \rmoviedataset.zip     38%[======>             ]  59.55M  3.29MB\/s    eta 31s    \rmoviedataset.zip     39%[======>             ]  60.33M  3.33MB\/s    eta 31s    \rmoviedataset.zip     39%[======>             ]  61.07M  3.30MB\/s    eta 31s    \rmoviedataset.zip     40%[=======>            ]  61.85M  3.34MB\/s    eta 31s    \rmoviedataset.zip     40%[=======>            ]  62.57M  3.31MB\/s    eta 31s    \rmoviedataset.zip     41%[=======>            ]  63.37M  3.35MB\/s    eta 30s    \rmoviedataset.zip     41%[=======>            ]  64.10M  3.33MB\/s    eta 30s    \rmoviedataset.zip     42%[=======>            ]  64.90M  3.36MB\/s    eta 30s    \rmoviedataset.zip     42%[=======>            ]  65.61M  3.33MB\/s    eta 30s    \rmoviedataset.zip     43%[=======>            ]  66.42M  3.38MB\/s    eta 30s    \rmoviedataset.zip     43%[=======>            ]  67.16M  3.35MB\/s    eta 28s    \rmoviedataset.zip     44%[=======>            ]  67.96M  3.39MB\/s    eta 28s    \rmoviedataset.zip     44%[=======>            ]  68.69M  3.36MB\/s    eta 28s    \rmoviedataset.zip     45%[========>           ]  69.49M  3.39MB\/s    eta 28s    \rmoviedataset.zip     45%[========>           ]  70.22M  3.37MB\/s    eta 28s    \rmoviedataset.zip     46%[========>           ]  71.04M  3.41MB\/s    eta 27s    \rmoviedataset.zip     46%[========>           ]  71.77M  3.38MB\/s    eta 27s    \rmoviedataset.zip     47%[========>           ]  72.58M  3.42MB\/s    eta 27s    \rmoviedataset.zip     47%[========>           ]  73.33M  3.39MB\/s    eta 27s    \rmoviedataset.zip     48%[========>           ]  74.14M  3.43MB\/s    eta 27s    \rmoviedataset.zip     48%[========>           ]  74.88M  3.40MB\/s    eta 25s    \rmoviedataset.zip     49%[========>           ]  75.69M  3.44MB\/s    eta 25s    \rmoviedataset.zip     50%[=========>          ]  76.44M  3.41MB\/s    eta 25s    \rmoviedataset.zip     50%[=========>          ]  77.26M  3.45MB\/s    eta 25s    \rmoviedataset.zip     51%[=========>          ]  78.00M  3.42MB\/s    eta 25s    \rmoviedataset.zip     51%[=========>          ]  78.82M  3.46MB\/s    eta 24s    \rmoviedataset.zip     52%[=========>          ]  79.58M  3.43MB\/s    eta 24s    \rmoviedataset.zip     52%[=========>          ]  80.40M  3.48MB\/s    eta 24s    \rmoviedataset.zip     53%[=========>          ]  81.16M  3.45MB\/s    eta 24s    \rmoviedataset.zip     53%[=========>          ]  81.97M  3.48MB\/s    eta 24s    \rmoviedataset.zip     54%[=========>          ]  82.74M  3.46MB\/s    eta 23s    \rmoviedataset.zip     54%[=========>          ]  83.57M  3.50MB\/s    eta 23s    \rmoviedataset.zip     55%[==========>         ]  84.32M  3.46MB\/s    eta 23s    \rmoviedataset.zip     55%[==========>         ]  85.16M  3.51MB\/s    eta 23s    \rmoviedataset.zip     56%[==========>         ]  85.91M  3.48MB\/s    eta 23s    \rmoviedataset.zip     56%[==========>         ]  86.75M  3.52MB\/s    eta 21s    \rmoviedataset.zip     57%[==========>         ]  87.51M  3.49MB\/s    eta 21s    \rmoviedataset.zip     57%[==========>         ]  88.35M  3.53MB\/s    eta 21s    \rmoviedataset.zip     58%[==========>         ]  89.11M  3.50MB\/s    eta 21s    \rmoviedataset.zip     58%[==========>         ]  89.94M  3.54MB\/s    eta 21s    \rmoviedataset.zip     59%[==========>         ]  90.72M  3.51MB\/s    eta 20s    \rmoviedataset.zip     59%[==========>         ]  91.55M  3.55MB\/s    eta 20s    \rmoviedataset.zip     60%[===========>        ]  92.33M  3.52MB\/s    eta 20s    \rmoviedataset.zip     60%[===========>        ]  93.17M  3.56MB\/s    eta 20s    \rmoviedataset.zip     61%[===========>        ]  93.94M  3.53MB\/s    eta 20s    \rmoviedataset.zip     62%[===========>        ]  94.79M  3.58MB\/s    eta 18s    \rmoviedataset.zip     62%[===========>        ]  95.57M  3.55MB\/s    eta 18s    \rmoviedataset.zip     63%[===========>        ]  96.41M  3.59MB\/s    eta 18s    \rmoviedataset.zip     63%[===========>        ]  97.19M  3.56MB\/s    eta 18s    \rmoviedataset.zip     64%[===========>        ]  98.04M  3.60MB\/s    eta 18s    \rmoviedataset.zip     64%[===========>        ]  98.82M  3.57MB\/s    eta 17s    \rmoviedataset.zip     65%[============>       ]  99.67M  3.61MB\/s    eta 17s    \rmoviedataset.zip     65%[============>       ] 100.46M  3.58MB\/s    eta 17s    \rmoviedataset.zip     66%[============>       ] 101.32M  3.62MB\/s    eta 17s    \rmoviedataset.zip     66%[============>       ] 102.10M  3.59MB\/s    eta 17s    \rmoviedataset.zip     67%[============>       ] 102.96M  3.63MB\/s    eta 16s    \rmoviedataset.zip     67%[============>       ] 103.74M  3.60MB\/s    eta 16s    \rmoviedataset.zip     68%[============>       ] 104.61M  3.64MB\/s    eta 16s    \rmoviedataset.zip     68%[============>       ] 105.40M  3.61MB\/s    eta 16s    \rmoviedataset.zip     69%[============>       ] 106.25M  3.65MB\/s    eta 16s    \rmoviedataset.zip     70%[=============>      ] 107.05M  3.62MB\/s    eta 14s    \rmoviedataset.zip     70%[=============>      ] 107.91M  3.66MB\/s    eta 14s    \rmoviedataset.zip     71%[=============>      ] 108.71M  3.63MB\/s    eta 14s    \rmoviedataset.zip     71%[=============>      ] 109.58M  3.67MB\/s    eta 14s    \rmoviedataset.zip     72%[=============>      ] 110.38M  3.65MB\/s    eta 14s    \rmoviedataset.zip     72%[=============>      ] 111.25M  3.69MB\/s    eta 13s    \rmoviedataset.zip     73%[=============>      ] 112.05M  3.66MB\/s    eta 13s    \rmoviedataset.zip     73%[=============>      ] 112.91M  3.69MB\/s    eta 13s    \rmoviedataset.zip     74%[=============>      ] 113.72M  3.68MB\/s    eta 13s    \rmoviedataset.zip     74%[=============>      ] 114.60M  3.71MB\/s    eta 13s    \rmoviedataset.zip     75%[==============>     ] 115.40M  3.69MB\/s    eta 12s    \rmoviedataset.zip     76%[==============>     ] 116.29M  3.71MB\/s    eta 12s    \rmoviedataset.zip     76%[==============>     ] 117.08M  3.70MB\/s    eta 12s    \rmoviedataset.zip     77%[==============>     ] 117.97M  3.72MB\/s    eta 12s    \rmoviedataset.zip     77%[==============>     ] 118.79M  3.70MB\/s    eta 12s    \rmoviedataset.zip     78%[==============>     ] 119.66M  3.73MB\/s    eta 10s    \rmoviedataset.zip     78%[==============>     ] 120.47M  3.72MB\/s    eta 10s    \rmoviedataset.zip     79%[==============>     ] 121.36M  3.75MB\/s    eta 10s    \rmoviedataset.zip     79%[==============>     ] 122.17M  3.73MB\/s    eta 10s    \rmoviedataset.zip     80%[===============>    ] 123.07M  3.76MB\/s    eta 10s    \rmoviedataset.zip     81%[===============>    ] 123.88M  3.74MB\/s    eta 9s     \rmoviedataset.zip     81%[===============>    ] 124.77M  3.77MB\/s    eta 9s     \rmoviedataset.zip     82%[===============>    ] 125.60M  3.74MB\/s    eta 9s     \rmoviedataset.zip     82%[===============>    ] 126.49M  3.78MB\/s    eta 9s     \rmoviedataset.zip     83%[===============>    ] 127.31M  3.75MB\/s    eta 9s     \rmoviedataset.zip     83%[===============>    ] 128.21M  3.79MB\/s    eta 8s     \rmoviedataset.zip     84%[===============>    ] 129.04M  3.77MB\/s    eta 8s     \rmoviedataset.zip     84%[===============>    ] 129.92M  3.80MB\/s    eta 8s     \rmoviedataset.zip     85%[================>   ] 130.76M  3.79MB\/s    eta 8s     \rmoviedataset.zip     86%[================>   ] 131.66M  3.82MB\/s    eta 8s     \rmoviedataset.zip     86%[================>   ] 132.49M  3.80MB\/s    eta 6s     \rmoviedataset.zip     87%[================>   ] 133.39M  3.82MB\/s    eta 6s     \rmoviedataset.zip     87%[================>   ] 134.22M  3.81MB\/s    eta 6s     \rmoviedataset.zip     88%[================>   ] 135.13M  3.84MB\/s    eta 6s     \rmoviedataset.zip     88%[================>   ] 135.97M  3.81MB\/s    eta 6s     \rmoviedataset.zip     89%[================>   ] 136.88M  3.85MB\/s    eta 5s     \rmoviedataset.zip     90%[=================>  ] 137.71M  3.83MB\/s    eta 5s     \rmoviedataset.zip     90%[=================>  ] 138.63M  3.86MB\/s    eta 5s     \rmoviedataset.zip     91%[=================>  ] 139.46M  3.85MB\/s    eta 5s     \rmoviedataset.zip     91%[=================>  ] 140.38M  3.87MB\/s    eta 5s     \rmoviedataset.zip     92%[=================>  ] 141.21M  3.85MB\/s    eta 4s     \rmoviedataset.zip     92%[=================>  ] 142.13M  3.88MB\/s    eta 4s     \rmoviedataset.zip     93%[=================>  ] 142.97M  3.86MB\/s    eta 4s     \rmoviedataset.zip     94%[=================>  ] 143.88M  3.88MB\/s    eta 4s     \rmoviedataset.zip     94%[=================>  ] 144.72M  3.87MB\/s    eta 4s     \rmoviedataset.zip     95%[==================> ] 145.65M  3.90MB\/s    eta 2s     \rmoviedataset.zip     95%[==================> ] 146.47M  3.87MB\/s    eta 2s     \rmoviedataset.zip     96%[==================> ] 147.43M  3.91MB\/s    eta 2s     \rmoviedataset.zip     96%[==================> ] 148.25M  3.87MB\/s    eta 2s     \rmoviedataset.zip     97%[==================> ] 149.19M  3.91MB\/s    eta 2s     \rmoviedataset.zip     98%[==================> ] 150.02M  3.89MB\/s    eta 1s     \rmoviedataset.zip     98%[==================> ] 150.97M  3.92MB\/s    eta 1s     \rmoviedataset.zip     99%[==================> ] 151.80M  3.90MB\/s    eta 1s     \rmoviedataset.zip     99%[==================> ] 152.75M  3.93MB\/s    eta 1s     \rmoviedataset.zip    100%[===================>] 152.88M  3.97MB\/s    in 45s     \r\n",
      "\r\n",
      "2022-04-09 13:18:11 (3.37 MB\/s) - ‘moviedataset.zip’ saved [160301210\/160301210]\r\n",
      "\r\n",
      "unziping ...\n",
      "Archive:  moviedataset.zip\r\n",
      "  inflating: links.csv               \r\n",
      "  inflating: movies.csv              \r\n",
      "  inflating: ratings.csv             \r\n",
      "  inflating: README.txt              \r\n",
      "  inflating: tags.csv                \r\n"
     ],
     "output_type":"stream"
    }
   ],
   "metadata":{
    "datalore":{
     "type":"CODE",
     "hide_input_from_viewers":false,
     "hide_output_from_viewers":false
    }
   }
  },
  {
   "cell_type":"markdown",
   "source":[
    "Now you're ready to start working with the data!"
   ],
   "attachments":{
    
   },
   "metadata":{
    "datalore":{
     "type":"MD",
     "hide_input_from_viewers":false,
     "hide_output_from_viewers":false
    }
   }
  },
  {
   "cell_type":"markdown",
   "source":[
    "<a id=\"ref2\"><\/a>\n",
    "\n",
    "# Preprocessing"
   ],
   "attachments":{
    
   },
   "metadata":{
    "datalore":{
     "type":"MD",
     "hide_input_from_viewers":false,
     "hide_output_from_viewers":false
    }
   }
  },
  {
   "cell_type":"markdown",
   "source":[
    "First, let's get all of the imports out of the way:"
   ],
   "attachments":{
    
   },
   "metadata":{
    "datalore":{
     "type":"MD",
     "hide_input_from_viewers":false,
     "hide_output_from_viewers":false
    }
   }
  },
  {
   "cell_type":"code",
   "source":[
    "#Dataframe manipulation library\n",
    "import pandas as pd\n",
    "#Math functions, we'll only need the sqrt function so let's import only that\n",
    "from math import sqrt\n",
    "import numpy as np\n",
    "import matplotlib.pyplot as plt\n",
    "%matplotlib inline"
   ],
   "execution_count":2,
   "outputs":[
    
   ],
   "metadata":{
    "datalore":{
     "type":"CODE",
     "hide_input_from_viewers":false,
     "hide_output_from_viewers":false
    }
   }
  },
  {
   "cell_type":"markdown",
   "source":[
    "Now let's read each file into their Dataframes:"
   ],
   "attachments":{
    
   },
   "metadata":{
    "datalore":{
     "type":"MD",
     "hide_input_from_viewers":false,
     "hide_output_from_viewers":false
    }
   }
  },
  {
   "cell_type":"code",
   "source":[
    "#Storing the movie information into a pandas dataframe\n",
    "movies_df = pd.read_csv('movies.csv')\n",
    "#Storing the user information into a pandas dataframe\n",
    "ratings_df = pd.read_csv('ratings.csv')\n",
    "#Head is a function that gets the first N rows of a dataframe. N's default is 5.\n",
    "movies_df.head()"
   ],
   "execution_count":3,
   "outputs":[
    {
     "data":{
      "text\/html":[
       "<div>\n",
       "<style scoped>\n",
       "    .dataframe tbody tr th:only-of-type {\n",
       "        vertical-align: middle;\n",
       "    }\n",
       "\n",
       "    .dataframe tbody tr th {\n",
       "        vertical-align: top;\n",
       "    }\n",
       "\n",
       "    .dataframe thead th {\n",
       "        text-align: right;\n",
       "    }\n",
       "<\/style>\n",
       "<table border=\"1\" class=\"dataframe\">\n",
       "  <thead>\n",
       "    <tr style=\"text-align: right;\">\n",
       "      <th><\/th>\n",
       "      <th>movieId<\/th>\n",
       "      <th>title<\/th>\n",
       "      <th>genres<\/th>\n",
       "    <\/tr>\n",
       "  <\/thead>\n",
       "  <tbody>\n",
       "    <tr>\n",
       "      <th>0<\/th>\n",
       "      <td>1<\/td>\n",
       "      <td>Toy Story (1995)<\/td>\n",
       "      <td>Adventure|Animation|Children|Comedy|Fantasy<\/td>\n",
       "    <\/tr>\n",
       "    <tr>\n",
       "      <th>1<\/th>\n",
       "      <td>2<\/td>\n",
       "      <td>Jumanji (1995)<\/td>\n",
       "      <td>Adventure|Children|Fantasy<\/td>\n",
       "    <\/tr>\n",
       "    <tr>\n",
       "      <th>2<\/th>\n",
       "      <td>3<\/td>\n",
       "      <td>Grumpier Old Men (1995)<\/td>\n",
       "      <td>Comedy|Romance<\/td>\n",
       "    <\/tr>\n",
       "    <tr>\n",
       "      <th>3<\/th>\n",
       "      <td>4<\/td>\n",
       "      <td>Waiting to Exhale (1995)<\/td>\n",
       "      <td>Comedy|Drama|Romance<\/td>\n",
       "    <\/tr>\n",
       "    <tr>\n",
       "      <th>4<\/th>\n",
       "      <td>5<\/td>\n",
       "      <td>Father of the Bride Part II (1995)<\/td>\n",
       "      <td>Comedy<\/td>\n",
       "    <\/tr>\n",
       "  <\/tbody>\n",
       "<\/table>\n",
       "<\/div>"
      ]
     },
     "metadata":{
      
     },
     "output_type":"display_data"
    }
   ],
   "metadata":{
    "datalore":{
     "type":"CODE",
     "hide_input_from_viewers":false,
     "hide_output_from_viewers":false
    }
   }
  },
  {
   "cell_type":"markdown",
   "source":[
    "Let's also remove the year from the **title** column by using pandas' replace function and store in a new **year** column."
   ],
   "attachments":{
    
   },
   "metadata":{
    "datalore":{
     "type":"MD",
     "hide_input_from_viewers":false,
     "hide_output_from_viewers":false
    }
   }
  },
  {
   "cell_type":"code",
   "source":[
    "#Using regular expressions to find a year stored between parentheses\n",
    "#We specify the parantheses so we don't conflict with movies that have years in their titles\n",
    "movies_df['year'] = movies_df.title.str.extract('(\\(\\d\\d\\d\\d\\))',expand=False)\n",
    "#Removing the parentheses\n",
    "movies_df['year'] = movies_df.year.str.extract('(\\d\\d\\d\\d)',expand=False)\n",
    "#Removing the years from the 'title' column\n",
    "movies_df['title'] = movies_df.title.str.replace('(\\(\\d\\d\\d\\d\\))', '')\n",
    "#Applying the strip function to get rid of any ending whitespace characters that may have appeared\n",
    "movies_df['title'] = movies_df['title'].apply(lambda x: x.strip())\n",
    "movies_df.head()"
   ],
   "execution_count":4,
   "outputs":[
    {
     "name":"stderr",
     "text":[
      "<ipython-input-4-2517c676119f>:7: FutureWarning: The default value of regex will change from True to False in a future version.\n",
      "  movies_df['title'] = movies_df.title.str.replace('(\\(\\d\\d\\d\\d\\))', '')\n"
     ],
     "output_type":"stream"
    },
    {
     "data":{
      "text\/html":[
       "<div>\n",
       "<style scoped>\n",
       "    .dataframe tbody tr th:only-of-type {\n",
       "        vertical-align: middle;\n",
       "    }\n",
       "\n",
       "    .dataframe tbody tr th {\n",
       "        vertical-align: top;\n",
       "    }\n",
       "\n",
       "    .dataframe thead th {\n",
       "        text-align: right;\n",
       "    }\n",
       "<\/style>\n",
       "<table border=\"1\" class=\"dataframe\">\n",
       "  <thead>\n",
       "    <tr style=\"text-align: right;\">\n",
       "      <th><\/th>\n",
       "      <th>movieId<\/th>\n",
       "      <th>title<\/th>\n",
       "      <th>genres<\/th>\n",
       "      <th>year<\/th>\n",
       "    <\/tr>\n",
       "  <\/thead>\n",
       "  <tbody>\n",
       "    <tr>\n",
       "      <th>0<\/th>\n",
       "      <td>1<\/td>\n",
       "      <td>Toy Story<\/td>\n",
       "      <td>Adventure|Animation|Children|Comedy|Fantasy<\/td>\n",
       "      <td>1995<\/td>\n",
       "    <\/tr>\n",
       "    <tr>\n",
       "      <th>1<\/th>\n",
       "      <td>2<\/td>\n",
       "      <td>Jumanji<\/td>\n",
       "      <td>Adventure|Children|Fantasy<\/td>\n",
       "      <td>1995<\/td>\n",
       "    <\/tr>\n",
       "    <tr>\n",
       "      <th>2<\/th>\n",
       "      <td>3<\/td>\n",
       "      <td>Grumpier Old Men<\/td>\n",
       "      <td>Comedy|Romance<\/td>\n",
       "      <td>1995<\/td>\n",
       "    <\/tr>\n",
       "    <tr>\n",
       "      <th>3<\/th>\n",
       "      <td>4<\/td>\n",
       "      <td>Waiting to Exhale<\/td>\n",
       "      <td>Comedy|Drama|Romance<\/td>\n",
       "      <td>1995<\/td>\n",
       "    <\/tr>\n",
       "    <tr>\n",
       "      <th>4<\/th>\n",
       "      <td>5<\/td>\n",
       "      <td>Father of the Bride Part II<\/td>\n",
       "      <td>Comedy<\/td>\n",
       "      <td>1995<\/td>\n",
       "    <\/tr>\n",
       "  <\/tbody>\n",
       "<\/table>\n",
       "<\/div>"
      ]
     },
     "metadata":{
      
     },
     "output_type":"display_data"
    }
   ],
   "metadata":{
    "datalore":{
     "type":"CODE",
     "hide_input_from_viewers":false,
     "hide_output_from_viewers":false
    }
   }
  },
  {
   "cell_type":"markdown",
   "source":[
    "With that, let's also split the values in the **Genres** column into a **list of Genres** to simplify for future use. This can be achieved by applying Python's split string function on the correct column."
   ],
   "attachments":{
    
   },
   "metadata":{
    "datalore":{
     "type":"MD",
     "hide_input_from_viewers":false,
     "hide_output_from_viewers":false
    }
   }
  },
  {
   "cell_type":"code",
   "source":[
    "#Every genre is separated by a | so we simply have to call the split function on |\n",
    "movies_df['genres'] = movies_df.genres.str.split('|')\n",
    "movies_df.head()"
   ],
   "execution_count":5,
   "outputs":[
    {
     "data":{
      "text\/html":[
       "<div>\n",
       "<style scoped>\n",
       "    .dataframe tbody tr th:only-of-type {\n",
       "        vertical-align: middle;\n",
       "    }\n",
       "\n",
       "    .dataframe tbody tr th {\n",
       "        vertical-align: top;\n",
       "    }\n",
       "\n",
       "    .dataframe thead th {\n",
       "        text-align: right;\n",
       "    }\n",
       "<\/style>\n",
       "<table border=\"1\" class=\"dataframe\">\n",
       "  <thead>\n",
       "    <tr style=\"text-align: right;\">\n",
       "      <th><\/th>\n",
       "      <th>movieId<\/th>\n",
       "      <th>title<\/th>\n",
       "      <th>genres<\/th>\n",
       "      <th>year<\/th>\n",
       "    <\/tr>\n",
       "  <\/thead>\n",
       "  <tbody>\n",
       "    <tr>\n",
       "      <th>0<\/th>\n",
       "      <td>1<\/td>\n",
       "      <td>Toy Story<\/td>\n",
       "      <td>[Adventure, Animation, Children, Comedy, Fantasy]<\/td>\n",
       "      <td>1995<\/td>\n",
       "    <\/tr>\n",
       "    <tr>\n",
       "      <th>1<\/th>\n",
       "      <td>2<\/td>\n",
       "      <td>Jumanji<\/td>\n",
       "      <td>[Adventure, Children, Fantasy]<\/td>\n",
       "      <td>1995<\/td>\n",
       "    <\/tr>\n",
       "    <tr>\n",
       "      <th>2<\/th>\n",
       "      <td>3<\/td>\n",
       "      <td>Grumpier Old Men<\/td>\n",
       "      <td>[Comedy, Romance]<\/td>\n",
       "      <td>1995<\/td>\n",
       "    <\/tr>\n",
       "    <tr>\n",
       "      <th>3<\/th>\n",
       "      <td>4<\/td>\n",
       "      <td>Waiting to Exhale<\/td>\n",
       "      <td>[Comedy, Drama, Romance]<\/td>\n",
       "      <td>1995<\/td>\n",
       "    <\/tr>\n",
       "    <tr>\n",
       "      <th>4<\/th>\n",
       "      <td>5<\/td>\n",
       "      <td>Father of the Bride Part II<\/td>\n",
       "      <td>[Comedy]<\/td>\n",
       "      <td>1995<\/td>\n",
       "    <\/tr>\n",
       "  <\/tbody>\n",
       "<\/table>\n",
       "<\/div>"
      ]
     },
     "metadata":{
      
     },
     "output_type":"display_data"
    }
   ],
   "metadata":{
    "datalore":{
     "type":"CODE",
     "hide_input_from_viewers":false,
     "hide_output_from_viewers":false
    }
   }
  },
  {
   "cell_type":"markdown",
   "source":[
    "Since keeping genres in a list format isn't optimal for the content-based recommendation system technique, we will use the One Hot Encoding technique to convert the list of genres to a vector where each column corresponds to one possible value of the feature. This encoding is needed for feeding categorical data. In this case, we store every different genre in columns that contain either 1 or 0. 1 shows that a movie has that genre and 0 shows that it doesn't. Let's also store this dataframe in another variable since genres won't be important for our first recommendation system."
   ],
   "attachments":{
    
   },
   "metadata":{
    "datalore":{
     "type":"MD",
     "hide_input_from_viewers":false,
     "hide_output_from_viewers":false
    }
   }
  },
  {
   "cell_type":"code",
   "source":[
    "#Copying the movie dataframe into a new one since we won't need to use the genre information in our first case.\n",
    "moviesWithGenres_df = movies_df.copy()\n",
    "\n",
    "#For every row in the dataframe, iterate through the list of genres and place a 1 into the corresponding column\n",
    "for index, row in movies_df.iterrows():\n",
    "    for genre in row['genres']:\n",
    "        moviesWithGenres_df.at[index, genre] = 1\n",
    "#Filling in the NaN values with 0 to show that a movie doesn't have that column's genre\n",
    "moviesWithGenres_df = moviesWithGenres_df.fillna(0)\n",
    "moviesWithGenres_df.head()"
   ],
   "execution_count":6,
   "outputs":[
    {
     "data":{
      "text\/html":[
       "<div>\n",
       "<style scoped>\n",
       "    .dataframe tbody tr th:only-of-type {\n",
       "        vertical-align: middle;\n",
       "    }\n",
       "\n",
       "    .dataframe tbody tr th {\n",
       "        vertical-align: top;\n",
       "    }\n",
       "\n",
       "    .dataframe thead th {\n",
       "        text-align: right;\n",
       "    }\n",
       "<\/style>\n",
       "<table border=\"1\" class=\"dataframe\">\n",
       "  <thead>\n",
       "    <tr style=\"text-align: right;\">\n",
       "      <th><\/th>\n",
       "      <th>movieId<\/th>\n",
       "      <th>title<\/th>\n",
       "      <th>genres<\/th>\n",
       "      <th>year<\/th>\n",
       "      <th>Adventure<\/th>\n",
       "      <th>Animation<\/th>\n",
       "      <th>Children<\/th>\n",
       "      <th>Comedy<\/th>\n",
       "      <th>Fantasy<\/th>\n",
       "      <th>Romance<\/th>\n",
       "      <th>...<\/th>\n",
       "      <th>Horror<\/th>\n",
       "      <th>Mystery<\/th>\n",
       "      <th>Sci-Fi<\/th>\n",
       "      <th>IMAX<\/th>\n",
       "      <th>Documentary<\/th>\n",
       "      <th>War<\/th>\n",
       "      <th>Musical<\/th>\n",
       "      <th>Western<\/th>\n",
       "      <th>Film-Noir<\/th>\n",
       "      <th>(no genres listed)<\/th>\n",
       "    <\/tr>\n",
       "  <\/thead>\n",
       "  <tbody>\n",
       "    <tr>\n",
       "      <th>0<\/th>\n",
       "      <td>1<\/td>\n",
       "      <td>Toy Story<\/td>\n",
       "      <td>[Adventure, Animation, Children, Comedy, Fantasy]<\/td>\n",
       "      <td>1995<\/td>\n",
       "      <td>1.0<\/td>\n",
       "      <td>1.0<\/td>\n",
       "      <td>1.0<\/td>\n",
       "      <td>1.0<\/td>\n",
       "      <td>1.0<\/td>\n",
       "      <td>0.0<\/td>\n",
       "      <td>...<\/td>\n",
       "      <td>0.0<\/td>\n",
       "      <td>0.0<\/td>\n",
       "      <td>0.0<\/td>\n",
       "      <td>0.0<\/td>\n",
       "      <td>0.0<\/td>\n",
       "      <td>0.0<\/td>\n",
       "      <td>0.0<\/td>\n",
       "      <td>0.0<\/td>\n",
       "      <td>0.0<\/td>\n",
       "      <td>0.0<\/td>\n",
       "    <\/tr>\n",
       "    <tr>\n",
       "      <th>1<\/th>\n",
       "      <td>2<\/td>\n",
       "      <td>Jumanji<\/td>\n",
       "      <td>[Adventure, Children, Fantasy]<\/td>\n",
       "      <td>1995<\/td>\n",
       "      <td>1.0<\/td>\n",
       "      <td>0.0<\/td>\n",
       "      <td>1.0<\/td>\n",
       "      <td>0.0<\/td>\n",
       "      <td>1.0<\/td>\n",
       "      <td>0.0<\/td>\n",
       "      <td>...<\/td>\n",
       "      <td>0.0<\/td>\n",
       "      <td>0.0<\/td>\n",
       "      <td>0.0<\/td>\n",
       "      <td>0.0<\/td>\n",
       "      <td>0.0<\/td>\n",
       "      <td>0.0<\/td>\n",
       "      <td>0.0<\/td>\n",
       "      <td>0.0<\/td>\n",
       "      <td>0.0<\/td>\n",
       "      <td>0.0<\/td>\n",
       "    <\/tr>\n",
       "    <tr>\n",
       "      <th>2<\/th>\n",
       "      <td>3<\/td>\n",
       "      <td>Grumpier Old Men<\/td>\n",
       "      <td>[Comedy, Romance]<\/td>\n",
       "      <td>1995<\/td>\n",
       "      <td>0.0<\/td>\n",
       "      <td>0.0<\/td>\n",
       "      <td>0.0<\/td>\n",
       "      <td>1.0<\/td>\n",
       "      <td>0.0<\/td>\n",
       "      <td>1.0<\/td>\n",
       "      <td>...<\/td>\n",
       "      <td>0.0<\/td>\n",
       "      <td>0.0<\/td>\n",
       "      <td>0.0<\/td>\n",
       "      <td>0.0<\/td>\n",
       "      <td>0.0<\/td>\n",
       "      <td>0.0<\/td>\n",
       "      <td>0.0<\/td>\n",
       "      <td>0.0<\/td>\n",
       "      <td>0.0<\/td>\n",
       "      <td>0.0<\/td>\n",
       "    <\/tr>\n",
       "    <tr>\n",
       "      <th>3<\/th>\n",
       "      <td>4<\/td>\n",
       "      <td>Waiting to Exhale<\/td>\n",
       "      <td>[Comedy, Drama, Romance]<\/td>\n",
       "      <td>1995<\/td>\n",
       "      <td>0.0<\/td>\n",
       "      <td>0.0<\/td>\n",
       "      <td>0.0<\/td>\n",
       "      <td>1.0<\/td>\n",
       "      <td>0.0<\/td>\n",
       "      <td>1.0<\/td>\n",
       "      <td>...<\/td>\n",
       "      <td>0.0<\/td>\n",
       "      <td>0.0<\/td>\n",
       "      <td>0.0<\/td>\n",
       "      <td>0.0<\/td>\n",
       "      <td>0.0<\/td>\n",
       "      <td>0.0<\/td>\n",
       "      <td>0.0<\/td>\n",
       "      <td>0.0<\/td>\n",
       "      <td>0.0<\/td>\n",
       "      <td>0.0<\/td>\n",
       "    <\/tr>\n",
       "    <tr>\n",
       "      <th>4<\/th>\n",
       "      <td>5<\/td>\n",
       "      <td>Father of the Bride Part II<\/td>\n",
       "      <td>[Comedy]<\/td>\n",
       "      <td>1995<\/td>\n",
       "      <td>0.0<\/td>\n",
       "      <td>0.0<\/td>\n",
       "      <td>0.0<\/td>\n",
       "      <td>1.0<\/td>\n",
       "      <td>0.0<\/td>\n",
       "      <td>0.0<\/td>\n",
       "      <td>...<\/td>\n",
       "      <td>0.0<\/td>\n",
       "      <td>0.0<\/td>\n",
       "      <td>0.0<\/td>\n",
       "      <td>0.0<\/td>\n",
       "      <td>0.0<\/td>\n",
       "      <td>0.0<\/td>\n",
       "      <td>0.0<\/td>\n",
       "      <td>0.0<\/td>\n",
       "      <td>0.0<\/td>\n",
       "      <td>0.0<\/td>\n",
       "    <\/tr>\n",
       "  <\/tbody>\n",
       "<\/table>\n",
       "<p>5 rows × 24 columns<\/p>\n",
       "<\/div>"
      ]
     },
     "metadata":{
      
     },
     "output_type":"display_data"
    }
   ],
   "metadata":{
    "datalore":{
     "type":"CODE",
     "hide_input_from_viewers":false,
     "hide_output_from_viewers":false
    }
   }
  },
  {
   "cell_type":"markdown",
   "source":[
    "Next, let's look at the ratings dataframe."
   ],
   "attachments":{
    
   },
   "metadata":{
    "datalore":{
     "type":"MD",
     "hide_input_from_viewers":false,
     "hide_output_from_viewers":false
    }
   }
  },
  {
   "cell_type":"code",
   "source":[
    "ratings_df.head()"
   ],
   "execution_count":7,
   "outputs":[
    {
     "data":{
      "text\/html":[
       "<div>\n",
       "<style scoped>\n",
       "    .dataframe tbody tr th:only-of-type {\n",
       "        vertical-align: middle;\n",
       "    }\n",
       "\n",
       "    .dataframe tbody tr th {\n",
       "        vertical-align: top;\n",
       "    }\n",
       "\n",
       "    .dataframe thead th {\n",
       "        text-align: right;\n",
       "    }\n",
       "<\/style>\n",
       "<table border=\"1\" class=\"dataframe\">\n",
       "  <thead>\n",
       "    <tr style=\"text-align: right;\">\n",
       "      <th><\/th>\n",
       "      <th>userId<\/th>\n",
       "      <th>movieId<\/th>\n",
       "      <th>rating<\/th>\n",
       "      <th>timestamp<\/th>\n",
       "    <\/tr>\n",
       "  <\/thead>\n",
       "  <tbody>\n",
       "    <tr>\n",
       "      <th>0<\/th>\n",
       "      <td>1<\/td>\n",
       "      <td>169<\/td>\n",
       "      <td>2.5<\/td>\n",
       "      <td>1204927694<\/td>\n",
       "    <\/tr>\n",
       "    <tr>\n",
       "      <th>1<\/th>\n",
       "      <td>1<\/td>\n",
       "      <td>2471<\/td>\n",
       "      <td>3.0<\/td>\n",
       "      <td>1204927438<\/td>\n",
       "    <\/tr>\n",
       "    <tr>\n",
       "      <th>2<\/th>\n",
       "      <td>1<\/td>\n",
       "      <td>48516<\/td>\n",
       "      <td>5.0<\/td>\n",
       "      <td>1204927435<\/td>\n",
       "    <\/tr>\n",
       "    <tr>\n",
       "      <th>3<\/th>\n",
       "      <td>2<\/td>\n",
       "      <td>2571<\/td>\n",
       "      <td>3.5<\/td>\n",
       "      <td>1436165433<\/td>\n",
       "    <\/tr>\n",
       "    <tr>\n",
       "      <th>4<\/th>\n",
       "      <td>2<\/td>\n",
       "      <td>109487<\/td>\n",
       "      <td>4.0<\/td>\n",
       "      <td>1436165496<\/td>\n",
       "    <\/tr>\n",
       "  <\/tbody>\n",
       "<\/table>\n",
       "<\/div>"
      ]
     },
     "metadata":{
      
     },
     "output_type":"display_data"
    }
   ],
   "metadata":{
    "datalore":{
     "type":"CODE",
     "hide_input_from_viewers":false,
     "hide_output_from_viewers":false
    }
   }
  },
  {
   "cell_type":"markdown",
   "source":[
    "Every row in the ratings dataframe has a user id associated with at least one movie, a rating and a timestamp showing when they reviewed it. We won't be needing the timestamp column, so let's drop it to save memory."
   ],
   "attachments":{
    
   },
   "metadata":{
    "datalore":{
     "type":"MD",
     "hide_input_from_viewers":false,
     "hide_output_from_viewers":false
    }
   }
  },
  {
   "cell_type":"code",
   "source":[
    "#Drop removes a specified row or column from a dataframe\n",
    "ratings_df = ratings_df.drop('timestamp', 1)\n",
    "ratings_df.head()"
   ],
   "execution_count":8,
   "outputs":[
    {
     "name":"stderr",
     "text":[
      "<ipython-input-8-9667dc059176>:2: FutureWarning: In a future version of pandas all arguments of DataFrame.drop except for the argument 'labels' will be keyword-only\n",
      "  ratings_df = ratings_df.drop('timestamp', 1)\n"
     ],
     "output_type":"stream"
    },
    {
     "data":{
      "text\/html":[
       "<div>\n",
       "<style scoped>\n",
       "    .dataframe tbody tr th:only-of-type {\n",
       "        vertical-align: middle;\n",
       "    }\n",
       "\n",
       "    .dataframe tbody tr th {\n",
       "        vertical-align: top;\n",
       "    }\n",
       "\n",
       "    .dataframe thead th {\n",
       "        text-align: right;\n",
       "    }\n",
       "<\/style>\n",
       "<table border=\"1\" class=\"dataframe\">\n",
       "  <thead>\n",
       "    <tr style=\"text-align: right;\">\n",
       "      <th><\/th>\n",
       "      <th>userId<\/th>\n",
       "      <th>movieId<\/th>\n",
       "      <th>rating<\/th>\n",
       "    <\/tr>\n",
       "  <\/thead>\n",
       "  <tbody>\n",
       "    <tr>\n",
       "      <th>0<\/th>\n",
       "      <td>1<\/td>\n",
       "      <td>169<\/td>\n",
       "      <td>2.5<\/td>\n",
       "    <\/tr>\n",
       "    <tr>\n",
       "      <th>1<\/th>\n",
       "      <td>1<\/td>\n",
       "      <td>2471<\/td>\n",
       "      <td>3.0<\/td>\n",
       "    <\/tr>\n",
       "    <tr>\n",
       "      <th>2<\/th>\n",
       "      <td>1<\/td>\n",
       "      <td>48516<\/td>\n",
       "      <td>5.0<\/td>\n",
       "    <\/tr>\n",
       "    <tr>\n",
       "      <th>3<\/th>\n",
       "      <td>2<\/td>\n",
       "      <td>2571<\/td>\n",
       "      <td>3.5<\/td>\n",
       "    <\/tr>\n",
       "    <tr>\n",
       "      <th>4<\/th>\n",
       "      <td>2<\/td>\n",
       "      <td>109487<\/td>\n",
       "      <td>4.0<\/td>\n",
       "    <\/tr>\n",
       "  <\/tbody>\n",
       "<\/table>\n",
       "<\/div>"
      ]
     },
     "metadata":{
      
     },
     "output_type":"display_data"
    }
   ],
   "metadata":{
    "datalore":{
     "type":"CODE",
     "hide_input_from_viewers":false,
     "hide_output_from_viewers":false
    }
   }
  },
  {
   "cell_type":"markdown",
   "source":[
    "<a id=\"ref3\"><\/a>\n",
    "\n",
    "# Content-Based recommendation system"
   ],
   "attachments":{
    
   },
   "metadata":{
    "datalore":{
     "type":"MD",
     "hide_input_from_viewers":false,
     "hide_output_from_viewers":false
    }
   }
  },
  {
   "cell_type":"markdown",
   "source":[
    "Now, let's take a look at how to implement **Content-Based** or **Item-Item recommendation systems**. This technique attempts to figure out what a user's favourite aspects of an item is, and then recommends items that present those aspects. In our case, we're going to try to figure out the input's favorite genres from the movies and ratings given.\n",
    "\n",
    "Let's begin by creating an input user to recommend movies to:\n",
    "\n",
    "Notice: To add more movies, simply increase the amount of elements in the **userInput**. Feel free to add more in! Just be sure to write it in with capital letters and if a movie starts with a \"The\", like \"The Matrix\" then write it in like this: 'Matrix, The' ."
   ],
   "attachments":{
    
   },
   "metadata":{
    "datalore":{
     "type":"MD",
     "hide_input_from_viewers":false,
     "hide_output_from_viewers":false
    }
   }
  },
  {
   "cell_type":"code",
   "source":[
    "userInput = [\n",
    "            {'title':'Breakfast Club, The', 'rating':5},\n",
    "            {'title':'Toy Story', 'rating':3.5},\n",
    "            {'title':'Jumanji', 'rating':2},\n",
    "            {'title':\"Pulp Fiction\", 'rating':5},\n",
    "            {'title':'Akira', 'rating':4.5}\n",
    "         ] \n",
    "inputMovies = pd.DataFrame(userInput)\n",
    "inputMovies"
   ],
   "execution_count":9,
   "outputs":[
    {
     "data":{
      "text\/html":[
       "<div>\n",
       "<style scoped>\n",
       "    .dataframe tbody tr th:only-of-type {\n",
       "        vertical-align: middle;\n",
       "    }\n",
       "\n",
       "    .dataframe tbody tr th {\n",
       "        vertical-align: top;\n",
       "    }\n",
       "\n",
       "    .dataframe thead th {\n",
       "        text-align: right;\n",
       "    }\n",
       "<\/style>\n",
       "<table border=\"1\" class=\"dataframe\">\n",
       "  <thead>\n",
       "    <tr style=\"text-align: right;\">\n",
       "      <th><\/th>\n",
       "      <th>title<\/th>\n",
       "      <th>rating<\/th>\n",
       "    <\/tr>\n",
       "  <\/thead>\n",
       "  <tbody>\n",
       "    <tr>\n",
       "      <th>0<\/th>\n",
       "      <td>Breakfast Club, The<\/td>\n",
       "      <td>5.0<\/td>\n",
       "    <\/tr>\n",
       "    <tr>\n",
       "      <th>1<\/th>\n",
       "      <td>Toy Story<\/td>\n",
       "      <td>3.5<\/td>\n",
       "    <\/tr>\n",
       "    <tr>\n",
       "      <th>2<\/th>\n",
       "      <td>Jumanji<\/td>\n",
       "      <td>2.0<\/td>\n",
       "    <\/tr>\n",
       "    <tr>\n",
       "      <th>3<\/th>\n",
       "      <td>Pulp Fiction<\/td>\n",
       "      <td>5.0<\/td>\n",
       "    <\/tr>\n",
       "    <tr>\n",
       "      <th>4<\/th>\n",
       "      <td>Akira<\/td>\n",
       "      <td>4.5<\/td>\n",
       "    <\/tr>\n",
       "  <\/tbody>\n",
       "<\/table>\n",
       "<\/div>"
      ]
     },
     "metadata":{
      
     },
     "output_type":"display_data"
    }
   ],
   "metadata":{
    "datalore":{
     "type":"CODE",
     "hide_input_from_viewers":false,
     "hide_output_from_viewers":false
    }
   }
  },
  {
   "cell_type":"markdown",
   "source":[
    "#### Add movieId to input user\n",
    "\n",
    "With the input complete, let's extract the input movie's ID's from the movies dataframe and add them into it.\n",
    "\n",
    "We can achieve this by first filtering out the rows that contain the input movie's title and then merging this subset with the input dataframe. We also drop unnecessary columns for the input to save memory space."
   ],
   "attachments":{
    
   },
   "metadata":{
    "datalore":{
     "type":"MD",
     "hide_input_from_viewers":false,
     "hide_output_from_viewers":false
    }
   }
  },
  {
   "cell_type":"code",
   "source":[
    "#Filtering out the movies by title\n",
    "inputId = movies_df[movies_df['title'].isin(inputMovies['title'].tolist())]\n",
    "#Then merging it so we can get the movieId. It's implicitly merging it by title.\n",
    "inputMovies = pd.merge(inputId, inputMovies)\n",
    "#Dropping information we won't use from the input dataframe\n",
    "inputMovies = inputMovies.drop('genres', 1).drop('year', 1)\n",
    "#Final input dataframe\n",
    "#If a movie you added in above isn't here, then it might not be in the original \n",
    "#dataframe or it might spelled differently, please check capitalisation.\n",
    "inputMovies"
   ],
   "execution_count":10,
   "outputs":[
    {
     "name":"stderr",
     "text":[
      "<ipython-input-10-7de410b0a9c0>:6: FutureWarning: In a future version of pandas all arguments of DataFrame.drop except for the argument 'labels' will be keyword-only\n",
      "  inputMovies = inputMovies.drop('genres', 1).drop('year', 1)\n"
     ],
     "output_type":"stream"
    },
    {
     "data":{
      "text\/html":[
       "<div>\n",
       "<style scoped>\n",
       "    .dataframe tbody tr th:only-of-type {\n",
       "        vertical-align: middle;\n",
       "    }\n",
       "\n",
       "    .dataframe tbody tr th {\n",
       "        vertical-align: top;\n",
       "    }\n",
       "\n",
       "    .dataframe thead th {\n",
       "        text-align: right;\n",
       "    }\n",
       "<\/style>\n",
       "<table border=\"1\" class=\"dataframe\">\n",
       "  <thead>\n",
       "    <tr style=\"text-align: right;\">\n",
       "      <th><\/th>\n",
       "      <th>movieId<\/th>\n",
       "      <th>title<\/th>\n",
       "      <th>rating<\/th>\n",
       "    <\/tr>\n",
       "  <\/thead>\n",
       "  <tbody>\n",
       "    <tr>\n",
       "      <th>0<\/th>\n",
       "      <td>1<\/td>\n",
       "      <td>Toy Story<\/td>\n",
       "      <td>3.5<\/td>\n",
       "    <\/tr>\n",
       "    <tr>\n",
       "      <th>1<\/th>\n",
       "      <td>2<\/td>\n",
       "      <td>Jumanji<\/td>\n",
       "      <td>2.0<\/td>\n",
       "    <\/tr>\n",
       "    <tr>\n",
       "      <th>2<\/th>\n",
       "      <td>296<\/td>\n",
       "      <td>Pulp Fiction<\/td>\n",
       "      <td>5.0<\/td>\n",
       "    <\/tr>\n",
       "    <tr>\n",
       "      <th>3<\/th>\n",
       "      <td>1274<\/td>\n",
       "      <td>Akira<\/td>\n",
       "      <td>4.5<\/td>\n",
       "    <\/tr>\n",
       "    <tr>\n",
       "      <th>4<\/th>\n",
       "      <td>1968<\/td>\n",
       "      <td>Breakfast Club, The<\/td>\n",
       "      <td>5.0<\/td>\n",
       "    <\/tr>\n",
       "  <\/tbody>\n",
       "<\/table>\n",
       "<\/div>"
      ]
     },
     "metadata":{
      
     },
     "output_type":"display_data"
    }
   ],
   "metadata":{
    "datalore":{
     "type":"CODE",
     "hide_input_from_viewers":false,
     "hide_output_from_viewers":false
    }
   }
  },
  {
   "cell_type":"markdown",
   "source":[
    "We're going to start by learning the input's preferences, so let's get the subset of movies that the input has watched from the Dataframe containing genres defined with binary values."
   ],
   "attachments":{
    
   },
   "metadata":{
    "datalore":{
     "type":"MD",
     "hide_input_from_viewers":false,
     "hide_output_from_viewers":false
    }
   }
  },
  {
   "cell_type":"code",
   "source":[
    "#Filtering out the movies from the input\n",
    "userMovies = moviesWithGenres_df[moviesWithGenres_df['movieId'].isin(inputMovies['movieId'].tolist())]\n",
    "userMovies"
   ],
   "execution_count":11,
   "outputs":[
    {
     "data":{
      "text\/html":[
       "<div>\n",
       "<style scoped>\n",
       "    .dataframe tbody tr th:only-of-type {\n",
       "        vertical-align: middle;\n",
       "    }\n",
       "\n",
       "    .dataframe tbody tr th {\n",
       "        vertical-align: top;\n",
       "    }\n",
       "\n",
       "    .dataframe thead th {\n",
       "        text-align: right;\n",
       "    }\n",
       "<\/style>\n",
       "<table border=\"1\" class=\"dataframe\">\n",
       "  <thead>\n",
       "    <tr style=\"text-align: right;\">\n",
       "      <th><\/th>\n",
       "      <th>movieId<\/th>\n",
       "      <th>title<\/th>\n",
       "      <th>genres<\/th>\n",
       "      <th>year<\/th>\n",
       "      <th>Adventure<\/th>\n",
       "      <th>Animation<\/th>\n",
       "      <th>Children<\/th>\n",
       "      <th>Comedy<\/th>\n",
       "      <th>Fantasy<\/th>\n",
       "      <th>Romance<\/th>\n",
       "      <th>...<\/th>\n",
       "      <th>Horror<\/th>\n",
       "      <th>Mystery<\/th>\n",
       "      <th>Sci-Fi<\/th>\n",
       "      <th>IMAX<\/th>\n",
       "      <th>Documentary<\/th>\n",
       "      <th>War<\/th>\n",
       "      <th>Musical<\/th>\n",
       "      <th>Western<\/th>\n",
       "      <th>Film-Noir<\/th>\n",
       "      <th>(no genres listed)<\/th>\n",
       "    <\/tr>\n",
       "  <\/thead>\n",
       "  <tbody>\n",
       "    <tr>\n",
       "      <th>0<\/th>\n",
       "      <td>1<\/td>\n",
       "      <td>Toy Story<\/td>\n",
       "      <td>[Adventure, Animation, Children, Comedy, Fantasy]<\/td>\n",
       "      <td>1995<\/td>\n",
       "      <td>1.0<\/td>\n",
       "      <td>1.0<\/td>\n",
       "      <td>1.0<\/td>\n",
       "      <td>1.0<\/td>\n",
       "      <td>1.0<\/td>\n",
       "      <td>0.0<\/td>\n",
       "      <td>...<\/td>\n",
       "      <td>0.0<\/td>\n",
       "      <td>0.0<\/td>\n",
       "      <td>0.0<\/td>\n",
       "      <td>0.0<\/td>\n",
       "      <td>0.0<\/td>\n",
       "      <td>0.0<\/td>\n",
       "      <td>0.0<\/td>\n",
       "      <td>0.0<\/td>\n",
       "      <td>0.0<\/td>\n",
       "      <td>0.0<\/td>\n",
       "    <\/tr>\n",
       "    <tr>\n",
       "      <th>1<\/th>\n",
       "      <td>2<\/td>\n",
       "      <td>Jumanji<\/td>\n",
       "      <td>[Adventure, Children, Fantasy]<\/td>\n",
       "      <td>1995<\/td>\n",
       "      <td>1.0<\/td>\n",
       "      <td>0.0<\/td>\n",
       "      <td>1.0<\/td>\n",
       "      <td>0.0<\/td>\n",
       "      <td>1.0<\/td>\n",
       "      <td>0.0<\/td>\n",
       "      <td>...<\/td>\n",
       "      <td>0.0<\/td>\n",
       "      <td>0.0<\/td>\n",
       "      <td>0.0<\/td>\n",
       "      <td>0.0<\/td>\n",
       "      <td>0.0<\/td>\n",
       "      <td>0.0<\/td>\n",
       "      <td>0.0<\/td>\n",
       "      <td>0.0<\/td>\n",
       "      <td>0.0<\/td>\n",
       "      <td>0.0<\/td>\n",
       "    <\/tr>\n",
       "    <tr>\n",
       "      <th>293<\/th>\n",
       "      <td>296<\/td>\n",
       "      <td>Pulp Fiction<\/td>\n",
       "      <td>[Comedy, Crime, Drama, Thriller]<\/td>\n",
       "      <td>1994<\/td>\n",
       "      <td>0.0<\/td>\n",
       "      <td>0.0<\/td>\n",
       "      <td>0.0<\/td>\n",
       "      <td>1.0<\/td>\n",
       "      <td>0.0<\/td>\n",
       "      <td>0.0<\/td>\n",
       "      <td>...<\/td>\n",
       "      <td>0.0<\/td>\n",
       "      <td>0.0<\/td>\n",
       "      <td>0.0<\/td>\n",
       "      <td>0.0<\/td>\n",
       "      <td>0.0<\/td>\n",
       "      <td>0.0<\/td>\n",
       "      <td>0.0<\/td>\n",
       "      <td>0.0<\/td>\n",
       "      <td>0.0<\/td>\n",
       "      <td>0.0<\/td>\n",
       "    <\/tr>\n",
       "    <tr>\n",
       "      <th>1246<\/th>\n",
       "      <td>1274<\/td>\n",
       "      <td>Akira<\/td>\n",
       "      <td>[Action, Adventure, Animation, Sci-Fi]<\/td>\n",
       "      <td>1988<\/td>\n",
       "      <td>1.0<\/td>\n",
       "      <td>1.0<\/td>\n",
       "      <td>0.0<\/td>\n",
       "      <td>0.0<\/td>\n",
       "      <td>0.0<\/td>\n",
       "      <td>0.0<\/td>\n",
       "      <td>...<\/td>\n",
       "      <td>0.0<\/td>\n",
       "      <td>0.0<\/td>\n",
       "      <td>1.0<\/td>\n",
       "      <td>0.0<\/td>\n",
       "      <td>0.0<\/td>\n",
       "      <td>0.0<\/td>\n",
       "      <td>0.0<\/td>\n",
       "      <td>0.0<\/td>\n",
       "      <td>0.0<\/td>\n",
       "      <td>0.0<\/td>\n",
       "    <\/tr>\n",
       "    <tr>\n",
       "      <th>1885<\/th>\n",
       "      <td>1968<\/td>\n",
       "      <td>Breakfast Club, The<\/td>\n",
       "      <td>[Comedy, Drama]<\/td>\n",
       "      <td>1985<\/td>\n",
       "      <td>0.0<\/td>\n",
       "      <td>0.0<\/td>\n",
       "      <td>0.0<\/td>\n",
       "      <td>1.0<\/td>\n",
       "      <td>0.0<\/td>\n",
       "      <td>0.0<\/td>\n",
       "      <td>...<\/td>\n",
       "      <td>0.0<\/td>\n",
       "      <td>0.0<\/td>\n",
       "      <td>0.0<\/td>\n",
       "      <td>0.0<\/td>\n",
       "      <td>0.0<\/td>\n",
       "      <td>0.0<\/td>\n",
       "      <td>0.0<\/td>\n",
       "      <td>0.0<\/td>\n",
       "      <td>0.0<\/td>\n",
       "      <td>0.0<\/td>\n",
       "    <\/tr>\n",
       "  <\/tbody>\n",
       "<\/table>\n",
       "<p>5 rows × 24 columns<\/p>\n",
       "<\/div>"
      ]
     },
     "metadata":{
      
     },
     "output_type":"display_data"
    }
   ],
   "metadata":{
    "datalore":{
     "type":"CODE",
     "hide_input_from_viewers":false,
     "hide_output_from_viewers":false
    }
   }
  },
  {
   "cell_type":"markdown",
   "source":[
    "We'll only need the actual genre table, so let's clean this up a bit by resetting the index and dropping the movieId, title, genres and year columns."
   ],
   "attachments":{
    
   },
   "metadata":{
    "datalore":{
     "type":"MD",
     "hide_input_from_viewers":false,
     "hide_output_from_viewers":false
    }
   }
  },
  {
   "cell_type":"code",
   "source":[
    "#Resetting the index to avoid future issues\n",
    "userMovies = userMovies.reset_index(drop=True)\n",
    "#Dropping unnecessary issues due to save memory and to avoid issues\n",
    "userGenreTable = userMovies.drop('movieId', 1).drop('title', 1).drop('genres', 1).drop('year', 1)\n",
    "userGenreTable"
   ],
   "execution_count":12,
   "outputs":[
    {
     "name":"stderr",
     "text":[
      "<ipython-input-12-52c6ef2edfd7>:4: FutureWarning: In a future version of pandas all arguments of DataFrame.drop except for the argument 'labels' will be keyword-only\n",
      "  userGenreTable = userMovies.drop('movieId', 1).drop('title', 1).drop('genres', 1).drop('year', 1)\n"
     ],
     "output_type":"stream"
    },
    {
     "data":{
      "text\/html":[
       "<div>\n",
       "<style scoped>\n",
       "    .dataframe tbody tr th:only-of-type {\n",
       "        vertical-align: middle;\n",
       "    }\n",
       "\n",
       "    .dataframe tbody tr th {\n",
       "        vertical-align: top;\n",
       "    }\n",
       "\n",
       "    .dataframe thead th {\n",
       "        text-align: right;\n",
       "    }\n",
       "<\/style>\n",
       "<table border=\"1\" class=\"dataframe\">\n",
       "  <thead>\n",
       "    <tr style=\"text-align: right;\">\n",
       "      <th><\/th>\n",
       "      <th>Adventure<\/th>\n",
       "      <th>Animation<\/th>\n",
       "      <th>Children<\/th>\n",
       "      <th>Comedy<\/th>\n",
       "      <th>Fantasy<\/th>\n",
       "      <th>Romance<\/th>\n",
       "      <th>Drama<\/th>\n",
       "      <th>Action<\/th>\n",
       "      <th>Crime<\/th>\n",
       "      <th>Thriller<\/th>\n",
       "      <th>Horror<\/th>\n",
       "      <th>Mystery<\/th>\n",
       "      <th>Sci-Fi<\/th>\n",
       "      <th>IMAX<\/th>\n",
       "      <th>Documentary<\/th>\n",
       "      <th>War<\/th>\n",
       "      <th>Musical<\/th>\n",
       "      <th>Western<\/th>\n",
       "      <th>Film-Noir<\/th>\n",
       "      <th>(no genres listed)<\/th>\n",
       "    <\/tr>\n",
       "  <\/thead>\n",
       "  <tbody>\n",
       "    <tr>\n",
       "      <th>0<\/th>\n",
       "      <td>1.0<\/td>\n",
       "      <td>1.0<\/td>\n",
       "      <td>1.0<\/td>\n",
       "      <td>1.0<\/td>\n",
       "      <td>1.0<\/td>\n",
       "      <td>0.0<\/td>\n",
       "      <td>0.0<\/td>\n",
       "      <td>0.0<\/td>\n",
       "      <td>0.0<\/td>\n",
       "      <td>0.0<\/td>\n",
       "      <td>0.0<\/td>\n",
       "      <td>0.0<\/td>\n",
       "      <td>0.0<\/td>\n",
       "      <td>0.0<\/td>\n",
       "      <td>0.0<\/td>\n",
       "      <td>0.0<\/td>\n",
       "      <td>0.0<\/td>\n",
       "      <td>0.0<\/td>\n",
       "      <td>0.0<\/td>\n",
       "      <td>0.0<\/td>\n",
       "    <\/tr>\n",
       "    <tr>\n",
       "      <th>1<\/th>\n",
       "      <td>1.0<\/td>\n",
       "      <td>0.0<\/td>\n",
       "      <td>1.0<\/td>\n",
       "      <td>0.0<\/td>\n",
       "      <td>1.0<\/td>\n",
       "      <td>0.0<\/td>\n",
       "      <td>0.0<\/td>\n",
       "      <td>0.0<\/td>\n",
       "      <td>0.0<\/td>\n",
       "      <td>0.0<\/td>\n",
       "      <td>0.0<\/td>\n",
       "      <td>0.0<\/td>\n",
       "      <td>0.0<\/td>\n",
       "      <td>0.0<\/td>\n",
       "      <td>0.0<\/td>\n",
       "      <td>0.0<\/td>\n",
       "      <td>0.0<\/td>\n",
       "      <td>0.0<\/td>\n",
       "      <td>0.0<\/td>\n",
       "      <td>0.0<\/td>\n",
       "    <\/tr>\n",
       "    <tr>\n",
       "      <th>2<\/th>\n",
       "      <td>0.0<\/td>\n",
       "      <td>0.0<\/td>\n",
       "      <td>0.0<\/td>\n",
       "      <td>1.0<\/td>\n",
       "      <td>0.0<\/td>\n",
       "      <td>0.0<\/td>\n",
       "      <td>1.0<\/td>\n",
       "      <td>0.0<\/td>\n",
       "      <td>1.0<\/td>\n",
       "      <td>1.0<\/td>\n",
       "      <td>0.0<\/td>\n",
       "      <td>0.0<\/td>\n",
       "      <td>0.0<\/td>\n",
       "      <td>0.0<\/td>\n",
       "      <td>0.0<\/td>\n",
       "      <td>0.0<\/td>\n",
       "      <td>0.0<\/td>\n",
       "      <td>0.0<\/td>\n",
       "      <td>0.0<\/td>\n",
       "      <td>0.0<\/td>\n",
       "    <\/tr>\n",
       "    <tr>\n",
       "      <th>3<\/th>\n",
       "      <td>1.0<\/td>\n",
       "      <td>1.0<\/td>\n",
       "      <td>0.0<\/td>\n",
       "      <td>0.0<\/td>\n",
       "      <td>0.0<\/td>\n",
       "      <td>0.0<\/td>\n",
       "      <td>0.0<\/td>\n",
       "      <td>1.0<\/td>\n",
       "      <td>0.0<\/td>\n",
       "      <td>0.0<\/td>\n",
       "      <td>0.0<\/td>\n",
       "      <td>0.0<\/td>\n",
       "      <td>1.0<\/td>\n",
       "      <td>0.0<\/td>\n",
       "      <td>0.0<\/td>\n",
       "      <td>0.0<\/td>\n",
       "      <td>0.0<\/td>\n",
       "      <td>0.0<\/td>\n",
       "      <td>0.0<\/td>\n",
       "      <td>0.0<\/td>\n",
       "    <\/tr>\n",
       "    <tr>\n",
       "      <th>4<\/th>\n",
       "      <td>0.0<\/td>\n",
       "      <td>0.0<\/td>\n",
       "      <td>0.0<\/td>\n",
       "      <td>1.0<\/td>\n",
       "      <td>0.0<\/td>\n",
       "      <td>0.0<\/td>\n",
       "      <td>1.0<\/td>\n",
       "      <td>0.0<\/td>\n",
       "      <td>0.0<\/td>\n",
       "      <td>0.0<\/td>\n",
       "      <td>0.0<\/td>\n",
       "      <td>0.0<\/td>\n",
       "      <td>0.0<\/td>\n",
       "      <td>0.0<\/td>\n",
       "      <td>0.0<\/td>\n",
       "      <td>0.0<\/td>\n",
       "      <td>0.0<\/td>\n",
       "      <td>0.0<\/td>\n",
       "      <td>0.0<\/td>\n",
       "      <td>0.0<\/td>\n",
       "    <\/tr>\n",
       "  <\/tbody>\n",
       "<\/table>\n",
       "<\/div>"
      ]
     },
     "metadata":{
      
     },
     "output_type":"display_data"
    }
   ],
   "metadata":{
    "datalore":{
     "type":"CODE",
     "hide_input_from_viewers":false,
     "hide_output_from_viewers":false
    }
   }
  },
  {
   "cell_type":"markdown",
   "source":[
    "Now we're ready to start learning the input's preferences!\n",
    "\n",
    "To do this, we're going to turn each genre into weights. We can do this by using the input's reviews and multiplying them into the input's genre table and then summing up the resulting table by column. This operation is actually a dot product between a matrix and a vector, so we can simply accomplish by calling the Pandas \"dot\" function."
   ],
   "attachments":{
    
   },
   "metadata":{
    "datalore":{
     "type":"MD",
     "hide_input_from_viewers":false,
     "hide_output_from_viewers":false
    }
   }
  },
  {
   "cell_type":"code",
   "source":[
    "inputMovies['rating']"
   ],
   "execution_count":13,
   "outputs":[
    {
     "data":{
      "text\/html":[
       
      ]
     },
     "metadata":{
      
     },
     "output_type":"display_data"
    }
   ],
   "metadata":{
    "datalore":{
     "type":"CODE",
     "hide_input_from_viewers":false,
     "hide_output_from_viewers":false
    }
   }
  },
  {
   "cell_type":"code",
   "source":[
    "#Dot produt to get weights\n",
    "userProfile = userGenreTable.transpose().dot(inputMovies['rating'])\n",
    "#The user profile\n",
    "userProfile"
   ],
   "execution_count":14,
   "outputs":[
    {
     "data":{
      "text\/html":[
       
      ]
     },
     "metadata":{
      
     },
     "output_type":"display_data"
    }
   ],
   "metadata":{
    "datalore":{
     "type":"CODE",
     "hide_input_from_viewers":false,
     "hide_output_from_viewers":false
    }
   }
  },
  {
   "cell_type":"markdown",
   "source":[
    "Now, we have the weights for every of the user's preferences. This is known as the User Profile. Using this, we can recommend movies that satisfy the user's preferences."
   ],
   "attachments":{
    
   },
   "metadata":{
    "datalore":{
     "type":"MD",
     "hide_input_from_viewers":false,
     "hide_output_from_viewers":false
    }
   }
  },
  {
   "cell_type":"markdown",
   "source":[
    "Let's start by extracting the genre table from the original dataframe:"
   ],
   "attachments":{
    
   },
   "metadata":{
    "datalore":{
     "type":"MD",
     "hide_input_from_viewers":false,
     "hide_output_from_viewers":false
    }
   }
  },
  {
   "cell_type":"code",
   "source":[
    "#Now let's get the genres of every movie in our original dataframe\n",
    "genreTable = moviesWithGenres_df.set_index(moviesWithGenres_df['movieId'])\n",
    "#And drop the unnecessary information\n",
    "genreTable = genreTable.drop('movieId', 1).drop('title', 1).drop('genres', 1).drop('year', 1)\n",
    "genreTable.head()"
   ],
   "execution_count":15,
   "outputs":[
    {
     "name":"stderr",
     "text":[
      "<ipython-input-15-2025d5d59dd6>:4: FutureWarning: In a future version of pandas all arguments of DataFrame.drop except for the argument 'labels' will be keyword-only\n",
      "  genreTable = genreTable.drop('movieId', 1).drop('title', 1).drop('genres', 1).drop('year', 1)\n"
     ],
     "output_type":"stream"
    },
    {
     "data":{
      "text\/html":[
       "<div>\n",
       "<style scoped>\n",
       "    .dataframe tbody tr th:only-of-type {\n",
       "        vertical-align: middle;\n",
       "    }\n",
       "\n",
       "    .dataframe tbody tr th {\n",
       "        vertical-align: top;\n",
       "    }\n",
       "\n",
       "    .dataframe thead th {\n",
       "        text-align: right;\n",
       "    }\n",
       "<\/style>\n",
       "<table border=\"1\" class=\"dataframe\">\n",
       "  <thead>\n",
       "    <tr style=\"text-align: right;\">\n",
       "      <th><\/th>\n",
       "      <th>Adventure<\/th>\n",
       "      <th>Animation<\/th>\n",
       "      <th>Children<\/th>\n",
       "      <th>Comedy<\/th>\n",
       "      <th>Fantasy<\/th>\n",
       "      <th>Romance<\/th>\n",
       "      <th>Drama<\/th>\n",
       "      <th>Action<\/th>\n",
       "      <th>Crime<\/th>\n",
       "      <th>Thriller<\/th>\n",
       "      <th>Horror<\/th>\n",
       "      <th>Mystery<\/th>\n",
       "      <th>Sci-Fi<\/th>\n",
       "      <th>IMAX<\/th>\n",
       "      <th>Documentary<\/th>\n",
       "      <th>War<\/th>\n",
       "      <th>Musical<\/th>\n",
       "      <th>Western<\/th>\n",
       "      <th>Film-Noir<\/th>\n",
       "      <th>(no genres listed)<\/th>\n",
       "    <\/tr>\n",
       "    <tr>\n",
       "      <th>movieId<\/th>\n",
       "      <th><\/th>\n",
       "      <th><\/th>\n",
       "      <th><\/th>\n",
       "      <th><\/th>\n",
       "      <th><\/th>\n",
       "      <th><\/th>\n",
       "      <th><\/th>\n",
       "      <th><\/th>\n",
       "      <th><\/th>\n",
       "      <th><\/th>\n",
       "      <th><\/th>\n",
       "      <th><\/th>\n",
       "      <th><\/th>\n",
       "      <th><\/th>\n",
       "      <th><\/th>\n",
       "      <th><\/th>\n",
       "      <th><\/th>\n",
       "      <th><\/th>\n",
       "      <th><\/th>\n",
       "      <th><\/th>\n",
       "    <\/tr>\n",
       "  <\/thead>\n",
       "  <tbody>\n",
       "    <tr>\n",
       "      <th>1<\/th>\n",
       "      <td>1.0<\/td>\n",
       "      <td>1.0<\/td>\n",
       "      <td>1.0<\/td>\n",
       "      <td>1.0<\/td>\n",
       "      <td>1.0<\/td>\n",
       "      <td>0.0<\/td>\n",
       "      <td>0.0<\/td>\n",
       "      <td>0.0<\/td>\n",
       "      <td>0.0<\/td>\n",
       "      <td>0.0<\/td>\n",
       "      <td>0.0<\/td>\n",
       "      <td>0.0<\/td>\n",
       "      <td>0.0<\/td>\n",
       "      <td>0.0<\/td>\n",
       "      <td>0.0<\/td>\n",
       "      <td>0.0<\/td>\n",
       "      <td>0.0<\/td>\n",
       "      <td>0.0<\/td>\n",
       "      <td>0.0<\/td>\n",
       "      <td>0.0<\/td>\n",
       "    <\/tr>\n",
       "    <tr>\n",
       "      <th>2<\/th>\n",
       "      <td>1.0<\/td>\n",
       "      <td>0.0<\/td>\n",
       "      <td>1.0<\/td>\n",
       "      <td>0.0<\/td>\n",
       "      <td>1.0<\/td>\n",
       "      <td>0.0<\/td>\n",
       "      <td>0.0<\/td>\n",
       "      <td>0.0<\/td>\n",
       "      <td>0.0<\/td>\n",
       "      <td>0.0<\/td>\n",
       "      <td>0.0<\/td>\n",
       "      <td>0.0<\/td>\n",
       "      <td>0.0<\/td>\n",
       "      <td>0.0<\/td>\n",
       "      <td>0.0<\/td>\n",
       "      <td>0.0<\/td>\n",
       "      <td>0.0<\/td>\n",
       "      <td>0.0<\/td>\n",
       "      <td>0.0<\/td>\n",
       "      <td>0.0<\/td>\n",
       "    <\/tr>\n",
       "    <tr>\n",
       "      <th>3<\/th>\n",
       "      <td>0.0<\/td>\n",
       "      <td>0.0<\/td>\n",
       "      <td>0.0<\/td>\n",
       "      <td>1.0<\/td>\n",
       "      <td>0.0<\/td>\n",
       "      <td>1.0<\/td>\n",
       "      <td>0.0<\/td>\n",
       "      <td>0.0<\/td>\n",
       "      <td>0.0<\/td>\n",
       "      <td>0.0<\/td>\n",
       "      <td>0.0<\/td>\n",
       "      <td>0.0<\/td>\n",
       "      <td>0.0<\/td>\n",
       "      <td>0.0<\/td>\n",
       "      <td>0.0<\/td>\n",
       "      <td>0.0<\/td>\n",
       "      <td>0.0<\/td>\n",
       "      <td>0.0<\/td>\n",
       "      <td>0.0<\/td>\n",
       "      <td>0.0<\/td>\n",
       "    <\/tr>\n",
       "    <tr>\n",
       "      <th>4<\/th>\n",
       "      <td>0.0<\/td>\n",
       "      <td>0.0<\/td>\n",
       "      <td>0.0<\/td>\n",
       "      <td>1.0<\/td>\n",
       "      <td>0.0<\/td>\n",
       "      <td>1.0<\/td>\n",
       "      <td>1.0<\/td>\n",
       "      <td>0.0<\/td>\n",
       "      <td>0.0<\/td>\n",
       "      <td>0.0<\/td>\n",
       "      <td>0.0<\/td>\n",
       "      <td>0.0<\/td>\n",
       "      <td>0.0<\/td>\n",
       "      <td>0.0<\/td>\n",
       "      <td>0.0<\/td>\n",
       "      <td>0.0<\/td>\n",
       "      <td>0.0<\/td>\n",
       "      <td>0.0<\/td>\n",
       "      <td>0.0<\/td>\n",
       "      <td>0.0<\/td>\n",
       "    <\/tr>\n",
       "    <tr>\n",
       "      <th>5<\/th>\n",
       "      <td>0.0<\/td>\n",
       "      <td>0.0<\/td>\n",
       "      <td>0.0<\/td>\n",
       "      <td>1.0<\/td>\n",
       "      <td>0.0<\/td>\n",
       "      <td>0.0<\/td>\n",
       "      <td>0.0<\/td>\n",
       "      <td>0.0<\/td>\n",
       "      <td>0.0<\/td>\n",
       "      <td>0.0<\/td>\n",
       "      <td>0.0<\/td>\n",
       "      <td>0.0<\/td>\n",
       "      <td>0.0<\/td>\n",
       "      <td>0.0<\/td>\n",
       "      <td>0.0<\/td>\n",
       "      <td>0.0<\/td>\n",
       "      <td>0.0<\/td>\n",
       "      <td>0.0<\/td>\n",
       "      <td>0.0<\/td>\n",
       "      <td>0.0<\/td>\n",
       "    <\/tr>\n",
       "  <\/tbody>\n",
       "<\/table>\n",
       "<\/div>"
      ]
     },
     "metadata":{
      
     },
     "output_type":"display_data"
    }
   ],
   "metadata":{
    "datalore":{
     "type":"CODE",
     "hide_input_from_viewers":false,
     "hide_output_from_viewers":false
    }
   }
  },
  {
   "cell_type":"code",
   "source":[
    "genreTable.shape"
   ],
   "execution_count":16,
   "outputs":[
    {
     "data":{
      "text\/plain":[
       "(34208, 20)"
      ]
     },
     "metadata":{
      
     },
     "output_type":"display_data"
    }
   ],
   "metadata":{
    "datalore":{
     "type":"CODE",
     "hide_input_from_viewers":false,
     "hide_output_from_viewers":false
    }
   }
  },
  {
   "cell_type":"markdown",
   "source":[
    "With the input's profile and the complete list of movies and their genres in hand, we're going to take the weighted average of every movie based on the input profile and recommend the top twenty movies that most satisfy it."
   ],
   "attachments":{
    
   },
   "metadata":{
    "datalore":{
     "type":"MD",
     "hide_input_from_viewers":false,
     "hide_output_from_viewers":false
    }
   }
  },
  {
   "cell_type":"code",
   "source":[
    "#Multiply the genres by the weights and then take the weighted average\n",
    "recommendationTable_df = ((genreTable*userProfile).sum(axis=1))\/(userProfile.sum())\n",
    "recommendationTable_df.head()"
   ],
   "execution_count":17,
   "outputs":[
    {
     "data":{
      "text\/html":[
       
      ]
     },
     "metadata":{
      
     },
     "output_type":"display_data"
    }
   ],
   "metadata":{
    "datalore":{
     "type":"CODE",
     "hide_input_from_viewers":false,
     "hide_output_from_viewers":false
    }
   }
  },
  {
   "cell_type":"code",
   "source":[
    "#Sort our recommendations in descending order\n",
    "recommendationTable_df = recommendationTable_df.sort_values(ascending=False)\n",
    "#Just a peek at the values\n",
    "recommendationTable_df.head()"
   ],
   "execution_count":18,
   "outputs":[
    {
     "data":{
      "text\/html":[
       
      ]
     },
     "metadata":{
      
     },
     "output_type":"display_data"
    }
   ],
   "metadata":{
    "datalore":{
     "type":"CODE",
     "hide_input_from_viewers":false,
     "hide_output_from_viewers":false
    }
   }
  },
  {
   "cell_type":"markdown",
   "source":[
    "Now here's the recommendation table!"
   ],
   "attachments":{
    
   },
   "metadata":{
    "datalore":{
     "type":"MD",
     "hide_input_from_viewers":false,
     "hide_output_from_viewers":false
    }
   }
  },
  {
   "cell_type":"code",
   "source":[
    "#The final recommendation table\n",
    "movies_df.loc[movies_df['movieId'].isin(recommendationTable_df.head(20).keys())]"
   ],
   "execution_count":19,
   "outputs":[
    {
     "data":{
      "text\/html":[
       "<div>\n",
       "<style scoped>\n",
       "    .dataframe tbody tr th:only-of-type {\n",
       "        vertical-align: middle;\n",
       "    }\n",
       "\n",
       "    .dataframe tbody tr th {\n",
       "        vertical-align: top;\n",
       "    }\n",
       "\n",
       "    .dataframe thead th {\n",
       "        text-align: right;\n",
       "    }\n",
       "<\/style>\n",
       "<table border=\"1\" class=\"dataframe\">\n",
       "  <thead>\n",
       "    <tr style=\"text-align: right;\">\n",
       "      <th><\/th>\n",
       "      <th>movieId<\/th>\n",
       "      <th>title<\/th>\n",
       "      <th>genres<\/th>\n",
       "      <th>year<\/th>\n",
       "    <\/tr>\n",
       "  <\/thead>\n",
       "  <tbody>\n",
       "    <tr>\n",
       "      <th>664<\/th>\n",
       "      <td>673<\/td>\n",
       "      <td>Space Jam<\/td>\n",
       "      <td>[Adventure, Animation, Children, Comedy, Fanta...<\/td>\n",
       "      <td>1996<\/td>\n",
       "    <\/tr>\n",
       "    <tr>\n",
       "      <th>1824<\/th>\n",
       "      <td>1907<\/td>\n",
       "      <td>Mulan<\/td>\n",
       "      <td>[Adventure, Animation, Children, Comedy, Drama...<\/td>\n",
       "      <td>1998<\/td>\n",
       "    <\/tr>\n",
       "    <tr>\n",
       "      <th>2902<\/th>\n",
       "      <td>2987<\/td>\n",
       "      <td>Who Framed Roger Rabbit?<\/td>\n",
       "      <td>[Adventure, Animation, Children, Comedy, Crime...<\/td>\n",
       "      <td>1988<\/td>\n",
       "    <\/tr>\n",
       "    <tr>\n",
       "      <th>4923<\/th>\n",
       "      <td>5018<\/td>\n",
       "      <td>Motorama<\/td>\n",
       "      <td>[Adventure, Comedy, Crime, Drama, Fantasy, Mys...<\/td>\n",
       "      <td>1991<\/td>\n",
       "    <\/tr>\n",
       "    <tr>\n",
       "      <th>6793<\/th>\n",
       "      <td>6902<\/td>\n",
       "      <td>Interstate 60<\/td>\n",
       "      <td>[Adventure, Comedy, Drama, Fantasy, Mystery, S...<\/td>\n",
       "      <td>2002<\/td>\n",
       "    <\/tr>\n",
       "    <tr>\n",
       "      <th>8605<\/th>\n",
       "      <td>26093<\/td>\n",
       "      <td>Wonderful World of the Brothers Grimm, The<\/td>\n",
       "      <td>[Adventure, Animation, Children, Comedy, Drama...<\/td>\n",
       "      <td>1962<\/td>\n",
       "    <\/tr>\n",
       "    <tr>\n",
       "      <th>8783<\/th>\n",
       "      <td>26340<\/td>\n",
       "      <td>Twelve Tasks of Asterix, The (Les douze travau...<\/td>\n",
       "      <td>[Action, Adventure, Animation, Children, Comed...<\/td>\n",
       "      <td>1976<\/td>\n",
       "    <\/tr>\n",
       "    <tr>\n",
       "      <th>9296<\/th>\n",
       "      <td>27344<\/td>\n",
       "      <td>Revolutionary Girl Utena: Adolescence of Utena...<\/td>\n",
       "      <td>[Action, Adventure, Animation, Comedy, Drama, ...<\/td>\n",
       "      <td>1999<\/td>\n",
       "    <\/tr>\n",
       "    <tr>\n",
       "      <th>9825<\/th>\n",
       "      <td>32031<\/td>\n",
       "      <td>Robots<\/td>\n",
       "      <td>[Adventure, Animation, Children, Comedy, Fanta...<\/td>\n",
       "      <td>2005<\/td>\n",
       "    <\/tr>\n",
       "    <tr>\n",
       "      <th>11716<\/th>\n",
       "      <td>51632<\/td>\n",
       "      <td>Atlantis: Milo's Return<\/td>\n",
       "      <td>[Action, Adventure, Animation, Children, Comed...<\/td>\n",
       "      <td>2003<\/td>\n",
       "    <\/tr>\n",
       "    <tr>\n",
       "      <th>11751<\/th>\n",
       "      <td>51939<\/td>\n",
       "      <td>TMNT (Teenage Mutant Ninja Turtles)<\/td>\n",
       "      <td>[Action, Adventure, Animation, Children, Comed...<\/td>\n",
       "      <td>2007<\/td>\n",
       "    <\/tr>\n",
       "    <tr>\n",
       "      <th>13250<\/th>\n",
       "      <td>64645<\/td>\n",
       "      <td>The Wrecking Crew<\/td>\n",
       "      <td>[Action, Adventure, Comedy, Crime, Drama, Thri...<\/td>\n",
       "      <td>1968<\/td>\n",
       "    <\/tr>\n",
       "    <tr>\n",
       "      <th>16055<\/th>\n",
       "      <td>81132<\/td>\n",
       "      <td>Rubber<\/td>\n",
       "      <td>[Action, Adventure, Comedy, Crime, Drama, Film...<\/td>\n",
       "      <td>2010<\/td>\n",
       "    <\/tr>\n",
       "    <tr>\n",
       "      <th>18312<\/th>\n",
       "      <td>91335<\/td>\n",
       "      <td>Gruffalo, The<\/td>\n",
       "      <td>[Adventure, Animation, Children, Comedy, Drama]<\/td>\n",
       "      <td>2009<\/td>\n",
       "    <\/tr>\n",
       "    <tr>\n",
       "      <th>22778<\/th>\n",
       "      <td>108540<\/td>\n",
       "      <td>Ernest &amp; Célestine (Ernest et Célestine)<\/td>\n",
       "      <td>[Adventure, Animation, Children, Comedy, Drama...<\/td>\n",
       "      <td>2012<\/td>\n",
       "    <\/tr>\n",
       "    <tr>\n",
       "      <th>22881<\/th>\n",
       "      <td>108932<\/td>\n",
       "      <td>The Lego Movie<\/td>\n",
       "      <td>[Action, Adventure, Animation, Children, Comed...<\/td>\n",
       "      <td>2014<\/td>\n",
       "    <\/tr>\n",
       "    <tr>\n",
       "      <th>25218<\/th>\n",
       "      <td>117646<\/td>\n",
       "      <td>Dragonheart 2: A New Beginning<\/td>\n",
       "      <td>[Action, Adventure, Comedy, Drama, Fantasy, Th...<\/td>\n",
       "      <td>2000<\/td>\n",
       "    <\/tr>\n",
       "    <tr>\n",
       "      <th>26442<\/th>\n",
       "      <td>122787<\/td>\n",
       "      <td>The 39 Steps<\/td>\n",
       "      <td>[Action, Adventure, Comedy, Crime, Drama, Thri...<\/td>\n",
       "      <td>1959<\/td>\n",
       "    <\/tr>\n",
       "    <tr>\n",
       "      <th>32854<\/th>\n",
       "      <td>146305<\/td>\n",
       "      <td>Princes and Princesses<\/td>\n",
       "      <td>[Animation, Children, Comedy, Drama, Fantasy, ...<\/td>\n",
       "      <td>2000<\/td>\n",
       "    <\/tr>\n",
       "    <tr>\n",
       "      <th>33509<\/th>\n",
       "      <td>148775<\/td>\n",
       "      <td>Wizards of Waverly Place: The Movie<\/td>\n",
       "      <td>[Adventure, Children, Comedy, Drama, Fantasy, ...<\/td>\n",
       "      <td>2009<\/td>\n",
       "    <\/tr>\n",
       "  <\/tbody>\n",
       "<\/table>\n",
       "<\/div>"
      ]
     },
     "metadata":{
      
     },
     "output_type":"display_data"
    }
   ],
   "metadata":{
    "datalore":{
     "type":"CODE",
     "hide_input_from_viewers":false,
     "hide_output_from_viewers":false
    }
   }
  },
  {
   "cell_type":"markdown",
   "source":[
    "### Advantages and Disadvantages of Content-Based Filtering\n",
    "\n",
    "##### Advantages\n",
    "\n",
    "*   Learns user's preferences\n",
    "*   Highly personalized for the user\n",
    "\n",
    "##### Disadvantages\n",
    "\n",
    "*   Doesn't take into account what others think of the item, so low quality item recommendations might happen\n",
    "*   Extracting data is not always intuitive\n",
    "*   Determining what characteristics of the item the user dislikes or likes is not always obvious"
   ],
   "attachments":{
    
   },
   "metadata":{
    "datalore":{
     "type":"MD",
     "hide_input_from_viewers":false,
     "hide_output_from_viewers":false
    }
   }
  },
  {
   "cell_type":"markdown",
   "source":[
    "<h2>Want to learn more?<\/h2>\n",
    "\n",
    "IBM SPSS Modeler is a comprehensive analytics platform that has many machine learning algorithms. It has been designed to bring predictive intelligence to decisions made by individuals, by groups, by systems – by your enterprise as a whole. A free trial is available through this course, available here: <a href=\"https:\/\/www.ibm.com\/analytics\/spss-statistics-software?utm_medium=Exinfluencer&utm_source=Exinfluencer&utm_content=000026UJ&utm_term=10006555&utm_id=NA-SkillsNetwork-Channel-SkillsNetworkCoursesIBMDeveloperSkillsNetworkML0101ENSkillsNetwork20718538-2021-01-01\">SPSS Modeler<\/a>\n",
    "\n",
    "Also, you can use Watson Studio to run these notebooks faster with bigger datasets. Watson Studio is IBM's leading cloud solution for data scientists, built by data scientists. With Jupyter notebooks, RStudio, Apache Spark and popular libraries pre-packaged in the cloud, Watson Studio enables data scientists to collaborate on their projects without having to install anything. Join the fast-growing community of Watson Studio users today with a free account at <a href=\"https:\/\/www.ibm.com\/cloud\/watson-studio?utm_medium=Exinfluencer&utm_source=Exinfluencer&utm_content=000026UJ&utm_term=10006555&utm_id=NA-SkillsNetwork-Channel-SkillsNetworkCoursesIBMDeveloperSkillsNetworkML0101ENSkillsNetwork20718538-2021-01-01\">Watson Studio<\/a>"
   ],
   "attachments":{
    
   },
   "metadata":{
    "datalore":{
     "type":"MD",
     "hide_input_from_viewers":false,
     "hide_output_from_viewers":false
    }
   }
  },
  {
   "cell_type":"markdown",
   "source":[
    "### Thank you for completing this lab!\n",
    "\n",
    "## Author\n",
    "\n",
    "Saeed Aghabozorgi\n",
    "\n",
    "### Other Contributors\n",
    "\n",
    "<a href=\"https:\/\/www.linkedin.com\/in\/joseph-s-50398b136\/?utm_medium=Exinfluencer&utm_source=Exinfluencer&utm_content=000026UJ&utm_term=10006555&utm_id=NA-SkillsNetwork-Channel-SkillsNetworkCoursesIBMDeveloperSkillsNetworkML0101ENSkillsNetwork20718538-2021-01-01\" target=\"_blank\">Joseph Santarcangelo<\/a>\n",
    "\n",
    "## Change Log\n",
    "\n",
    "| Date (YYYY-MM-DD) | Version | Changed By | Change Description                 |\n",
    "| ----------------- | ------- | ---------- | ---------------------------------- |\n",
    "| 2020-11-03        | 2.1     | Lakshmi    | Updated URL of csv                 |\n",
    "| 2020-08-27        | 2.0     | Lavanya    | Moved lab to course repo in GitLab |\n",
    "|                   |         |            |                                    |\n",
    "|                   |         |            |                                    |\n",
    "\n",
    "## <h3 align=\"center\"> © IBM Corporation 2020. All rights reserved. <h3\/>"
   ],
   "attachments":{
    
   },
   "metadata":{
    "datalore":{
     "type":"MD",
     "hide_input_from_viewers":false,
     "hide_output_from_viewers":false
    }
   }
  }
 ],
 "metadata":{
  "datalore":{
   "version":1,
   "computation_mode":"JUPYTER",
   "package_manager":"pip",
   "base_environment":"default",
   "packages":[
    
   ]
  }
 },
 "nbformat":4,
 "nbformat_minor":4
}