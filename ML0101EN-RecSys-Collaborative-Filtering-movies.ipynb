{
 "cells":[
  {
   "cell_type":"markdown",
   "source":[
    "<center>\n",
    "    <img src=\"https:\/\/cf-courses-data.s3.us.cloud-object-storage.appdomain.cloud\/IBMDeveloperSkillsNetwork-ML0101EN-SkillsNetwork\/labs\/Module%205\/images\/IDSNlogo.png\" width=\"300\" alt=\"cognitiveclass.ai logo\"  \/>\n",
    "<\/center>\n",
    "\n",
    "# Collaborative Filtering\n",
    "\n",
    "Estimated time needed: **25** minutes\n",
    "\n",
    "## Objectives\n",
    "\n",
    "After completing this lab you will be able to:\n",
    "\n",
    "*   Create recommendation system based on collaborative filtering"
   ],
   "attachments":{
    
   },
   "metadata":{
    "datalore":{
     "type":"MD",
     "hide_input_from_viewers":false,
     "hide_output_from_viewers":false
    }
   }
  },
  {
   "cell_type":"markdown",
   "source":[
    "Recommendation systems are a collection of algorithms used to recommend items to users based on information taken from the user. These systems have become ubiquitous and can be commonly seen in online stores, movies databases and job finders. In this notebook, we will explore recommendation systems based on Collaborative Filtering and implement simple version of one using Python and the Pandas library."
   ],
   "attachments":{
    
   },
   "metadata":{
    "datalore":{
     "type":"MD",
     "hide_input_from_viewers":false,
     "hide_output_from_viewers":false
    }
   }
  },
  {
   "cell_type":"markdown",
   "source":[
    "<h1>Table of contents<\/h1>\n",
    "\n",
    "<div class=\"alert alert-block alert-info\" style=\"margin-top: 20px\">\n",
    "    <ol>\n",
    "        <li><a href=\"https:\/\/#ref1\">Acquiring the Data<\/a><\/li>\n",
    "        <li><a href=\"https:\/\/#ref2\">Preprocessing<\/a><\/li>\n",
    "        <li><a href=\"https:\/\/#ref3\">Collaborative Filtering<\/a><\/li>\n",
    "    <\/ol>\n",
    "<\/div>\n",
    "<br>\n",
    "<hr>"
   ],
   "attachments":{
    
   },
   "metadata":{
    "datalore":{
     "type":"MD",
     "hide_input_from_viewers":false,
     "hide_output_from_viewers":false
    }
   }
  },
  {
   "cell_type":"markdown",
   "source":[
    "<a id=\"ref1\"><\/a>\n",
    "\n",
    "# Acquiring the Data"
   ],
   "attachments":{
    
   },
   "metadata":{
    "datalore":{
     "type":"MD",
     "hide_input_from_viewers":false,
     "hide_output_from_viewers":false
    }
   }
  },
  {
   "cell_type":"markdown",
   "source":[
    "To acquire and extract the data, simply run the following Bash scripts:\\\n",
    "Dataset acquired from [GroupLens](http:\/\/grouplens.org\/datasets\/movielens\/?utm_medium=Exinfluencer&utm_source=Exinfluencer&utm_content=000026UJ&utm_term=10006555&utm_id=NA-SkillsNetwork-Channel-SkillsNetworkCoursesIBMDeveloperSkillsNetworkML0101ENSkillsNetwork20718538-2021-01-01). Let's download the dataset. To download the data, we will use **`!wget`** to download it from IBM Object Storage.\\\n",
    "**Did you know?** When it comes to Machine Learning, you will likely be working with large datasets. As a business, where can you host your data? IBM is offering a unique opportunity for businesses, with 10 Tb of IBM Cloud Object Storage: [Sign up now for free](http:\/\/cocl.us\/ML0101EN-IBM-Offer-CC)"
   ],
   "attachments":{
    
   },
   "metadata":{
    "datalore":{
     "type":"MD",
     "hide_input_from_viewers":false,
     "hide_output_from_viewers":false
    }
   }
  },
  {
   "cell_type":"code",
   "source":[
    "!wget -O moviedataset.zip https:\/\/cf-courses-data.s3.us.cloud-object-storage.appdomain.cloud\/IBMDeveloperSkillsNetwork-ML0101EN-SkillsNetwork\/labs\/Module%205\/data\/moviedataset.zip\n",
    "print('unziping ...')\n",
    "!unzip -o -j moviedataset.zip "
   ],
   "execution_count":1,
   "outputs":[
    {
     "name":"stdout",
     "text":[
      "--2022-04-09 13:54:56--  https:\/\/cf-courses-data.s3.us.cloud-object-storage.appdomain.cloud\/IBMDeveloperSkillsNetwork-ML0101EN-SkillsNetwork\/labs\/Module%205\/data\/moviedataset.zip\r\n",
      "Resolving cf-courses-data.s3.us.cloud-object-storage.appdomain.cloud (cf-courses-data.s3.us.cloud-object-storage.appdomain.cloud)... 169.63.118.104\r\n",
      "Connecting to cf-courses-data.s3.us.cloud-object-storage.appdomain.cloud (cf-courses-data.s3.us.cloud-object-storage.appdomain.cloud)|169.63.118.104|:443... connected.\r\n",
      "HTTP request sent, awaiting response... 200 OK\r\n",
      "Length: 160301210 (153M) [application\/zip]\r\n",
      "Saving to: ‘moviedataset.zip’\r\n",
      "\r\n",
      "\rmoviedataset.zip      0%[                    ]       0  --.-KB\/s               \rmoviedataset.zip      0%[                    ]  72.00K   274KB\/s               \rmoviedataset.zip      0%[                    ] 408.00K   802KB\/s               \rmoviedataset.zip      0%[                    ]   1.09M  1.38MB\/s               \rmoviedataset.zip      2%[                    ]   3.29M  3.20MB\/s               \rmoviedataset.zip      2%[                    ]   4.32M  3.52MB\/s               \rmoviedataset.zip      3%[                    ]   5.32M  3.64MB\/s               \rmoviedataset.zip      4%[                    ]   6.54M  3.94MB\/s               \rmoviedataset.zip      4%[                    ]   7.48M  4.00MB\/s               \rmoviedataset.zip      5%[>                   ]   8.43M  4.07MB\/s               \rmoviedataset.zip      6%[>                   ]   9.70M  4.22MB\/s               \rmoviedataset.zip      6%[>                   ]  10.66M  4.26MB\/s               \rmoviedataset.zip      7%[>                   ]  11.96M  4.38MB\/s               \rmoviedataset.zip      8%[>                   ]  12.95M  4.42MB\/s               \rmoviedataset.zip      9%[>                   ]  14.27M  4.49MB\/s    eta 31s    \rmoviedataset.zip     10%[=>                  ]  15.52M  4.59MB\/s    eta 31s    \rmoviedataset.zip     10%[=>                  ]  16.59M  4.62MB\/s    eta 31s    \rmoviedataset.zip     11%[=>                  ]  17.59M  4.86MB\/s    eta 31s    \rmoviedataset.zip     12%[=>                  ]  18.95M  5.28MB\/s    eta 31s    \rmoviedataset.zip     13%[=>                  ]  19.93M  5.49MB\/s    eta 28s    \rmoviedataset.zip     13%[=>                  ]  21.30M  5.35MB\/s    eta 28s    \rmoviedataset.zip     14%[=>                  ]  22.35M  5.35MB\/s    eta 28s    \rmoviedataset.zip     15%[==>                 ]  23.33M  5.25MB\/s    eta 28s    \rmoviedataset.zip     15%[==>                 ]  24.31M  5.16MB\/s    eta 28s    \rmoviedataset.zip     16%[==>                 ]  25.35M  5.13MB\/s    eta 27s    \rmoviedataset.zip     17%[==>                 ]  26.07M  5.03MB\/s    eta 27s    \rmoviedataset.zip     17%[==>                 ]  26.99M  4.98MB\/s    eta 27s    \rmoviedataset.zip     18%[==>                 ]  27.72M  4.87MB\/s    eta 27s    \rmoviedataset.zip     18%[==>                 ]  28.60M  4.80MB\/s    eta 27s    \rmoviedataset.zip     19%[==>                 ]  29.43M  4.75MB\/s    eta 27s    \rmoviedataset.zip     19%[==>                 ]  30.16M  4.63MB\/s    eta 27s    \rmoviedataset.zip     20%[===>                ]  31.13M  4.63MB\/s    eta 27s    \rmoviedataset.zip     20%[===>                ]  31.89M  4.46MB\/s    eta 27s    \rmoviedataset.zip     21%[===>                ]  32.82M  4.42MB\/s    eta 27s    \rmoviedataset.zip     22%[===>                ]  33.66M  4.32MB\/s    eta 26s    \rmoviedataset.zip     22%[===>                ]  34.60M  4.28MB\/s    eta 26s    \rmoviedataset.zip     23%[===>                ]  35.44M  4.22MB\/s    eta 26s    \rmoviedataset.zip     23%[===>                ]  36.21M  4.07MB\/s    eta 26s    \rmoviedataset.zip     24%[===>                ]  37.21M  4.15MB\/s    eta 26s    \rmoviedataset.zip     24%[===>                ]  37.99M  4.02MB\/s    eta 26s    \rmoviedataset.zip     25%[====>               ]  38.94M  4.11MB\/s    eta 26s    \rmoviedataset.zip     26%[====>               ]  39.79M  4.10MB\/s    eta 26s    \rmoviedataset.zip     26%[====>               ]  40.55M  4.11MB\/s    eta 26s    \rmoviedataset.zip     27%[====>               ]  41.55M  4.17MB\/s    eta 26s    \rmoviedataset.zip     27%[====>               ]  42.33M  4.14MB\/s    eta 25s    \rmoviedataset.zip     28%[====>               ]  43.15M  4.14MB\/s    eta 25s    \rmoviedataset.zip     28%[====>               ]  44.14M  4.17MB\/s    eta 25s    \rmoviedataset.zip     29%[====>               ]  44.96M  4.17MB\/s    eta 25s    \rmoviedataset.zip     30%[=====>              ]  45.91M  4.13MB\/s    eta 25s    \rmoviedataset.zip     30%[=====>              ]  46.86M  4.04MB\/s    eta 24s    \rmoviedataset.zip     31%[=====>              ]  47.69M  4.03MB\/s    eta 24s    \rmoviedataset.zip     31%[=====>              ]  48.24M  3.93MB\/s    eta 24s    \rmoviedataset.zip     32%[=====>              ]  48.96M  3.89MB\/s    eta 24s    \rmoviedataset.zip     32%[=====>              ]  49.52M  3.78MB\/s    eta 24s    \rmoviedataset.zip     32%[=====>              ]  50.25M  3.74MB\/s    eta 24s    \rmoviedataset.zip     33%[=====>              ]  50.84M  3.65MB\/s    eta 24s    \rmoviedataset.zip     33%[=====>              ]  51.58M  3.62MB\/s    eta 24s    \rmoviedataset.zip     34%[=====>              ]  52.18M  3.50MB\/s    eta 24s    \rmoviedataset.zip     34%[=====>              ]  52.94M  3.48MB\/s    eta 24s    \rmoviedataset.zip     35%[======>             ]  53.54M  3.39MB\/s    eta 24s    \rmoviedataset.zip     35%[======>             ]  54.23M  3.35MB\/s    eta 24s    \rmoviedataset.zip     35%[======>             ]  54.73M  3.20MB\/s    eta 24s    \rmoviedataset.zip     36%[======>             ]  55.38M  3.15MB\/s    eta 24s    \rmoviedataset.zip     36%[======>             ]  55.88M  3.04MB\/s    eta 24s    \rmoviedataset.zip     36%[======>             ]  56.55M  3.00MB\/s    eta 24s    \rmoviedataset.zip     37%[======>             ]  57.08M  2.95MB\/s    eta 24s    \rmoviedataset.zip     37%[======>             ]  57.78M  2.94MB\/s    eta 24s    \rmoviedataset.zip     38%[======>             ]  58.29M  2.91MB\/s    eta 24s    \rmoviedataset.zip     38%[======>             ]  58.97M  2.93MB\/s    eta 24s    \rmoviedataset.zip     38%[======>             ]  59.52M  2.89MB\/s    eta 24s    \rmoviedataset.zip     39%[======>             ]  60.22M  2.92MB\/s    eta 24s    \rmoviedataset.zip     39%[======>             ]  60.77M  2.88MB\/s    eta 24s    \rmoviedataset.zip     40%[=======>            ]  61.48M  2.91MB\/s    eta 24s    \rmoviedataset.zip     40%[=======>            ]  62.02M  2.85MB\/s    eta 24s    \rmoviedataset.zip     41%[=======>            ]  62.72M  2.87MB\/s    eta 23s    \rmoviedataset.zip     41%[=======>            ]  63.27M  2.83MB\/s    eta 23s    \rmoviedataset.zip     41%[=======>            ]  63.97M  2.88MB\/s    eta 23s    \rmoviedataset.zip     42%[=======>            ]  64.52M  2.84MB\/s    eta 23s    \rmoviedataset.zip     42%[=======>            ]  65.23M  2.89MB\/s    eta 23s    \rmoviedataset.zip     43%[=======>            ]  65.77M  2.87MB\/s    eta 23s    \rmoviedataset.zip     43%[=======>            ]  66.38M  2.88MB\/s    eta 23s    \rmoviedataset.zip     43%[=======>            ]  67.02M  2.89MB\/s    eta 23s    \rmoviedataset.zip     44%[=======>            ]  67.63M  2.90MB\/s    eta 23s    \rmoviedataset.zip     44%[=======>            ]  68.27M  2.90MB\/s    eta 23s    \rmoviedataset.zip     45%[========>           ]  68.88M  2.91MB\/s    eta 22s    \rmoviedataset.zip     45%[========>           ]  69.52M  2.90MB\/s    eta 22s    \rmoviedataset.zip     45%[========>           ]  70.18M  2.93MB\/s    eta 22s    \rmoviedataset.zip     46%[========>           ]  70.83M  2.92MB\/s    eta 22s    \rmoviedataset.zip     46%[========>           ]  71.53M  2.95MB\/s    eta 22s    \rmoviedataset.zip     47%[========>           ]  72.20M  2.96MB\/s    eta 22s    \rmoviedataset.zip     47%[========>           ]  72.91M  2.99MB\/s    eta 22s    \rmoviedataset.zip     48%[========>           ]  73.58M  2.99MB\/s    eta 22s    \rmoviedataset.zip     48%[========>           ]  74.13M  2.90MB\/s    eta 22s    \rmoviedataset.zip     48%[========>           ]  74.66M  2.84MB\/s    eta 22s    \rmoviedataset.zip     49%[========>           ]  75.27M  2.80MB\/s    eta 21s    \rmoviedataset.zip     49%[========>           ]  75.85M  2.75MB\/s    eta 21s    \rmoviedataset.zip     49%[========>           ]  76.43M  2.70MB\/s    eta 21s    \rmoviedataset.zip     50%[=========>          ]  77.04M  2.67MB\/s    eta 21s    \rmoviedataset.zip     50%[=========>          ]  77.63M  2.62MB\/s    eta 21s    \rmoviedataset.zip     51%[=========>          ]  78.24M  2.59MB\/s    eta 21s    \rmoviedataset.zip     51%[=========>          ]  78.86M  2.54MB\/s    eta 21s    \rmoviedataset.zip     51%[=========>          ]  79.49M  2.50MB\/s    eta 21s    \rmoviedataset.zip     52%[=========>          ]  80.12M  2.43MB\/s    eta 21s    \rmoviedataset.zip     52%[=========>          ]  80.74M  2.39MB\/s    eta 21s    \rmoviedataset.zip     53%[=========>          ]  81.36M  2.31MB\/s    eta 21s    \rmoviedataset.zip     53%[=========>          ]  81.99M  2.27MB\/s    eta 21s    \rmoviedataset.zip     54%[=========>          ]  82.62M  2.41MB\/s    eta 20s    \rmoviedataset.zip     54%[=========>          ]  83.24M  2.36MB\/s    eta 20s    \rmoviedataset.zip     54%[=========>          ]  83.85M  2.38MB\/s    eta 20s    \rmoviedataset.zip     55%[==========>         ]  84.49M  2.39MB\/s    eta 20s    \rmoviedataset.zip     55%[==========>         ]  85.11M  2.40MB\/s    eta 20s    \rmoviedataset.zip     56%[==========>         ]  85.72M  2.43MB\/s    eta 20s    \rmoviedataset.zip     56%[==========>         ]  86.15M  2.41MB\/s    eta 20s    \rmoviedataset.zip     56%[==========>         ]  86.82M  2.43MB\/s    eta 20s    \rmoviedataset.zip     57%[==========>         ]  87.49M  2.44MB\/s    eta 20s    \rmoviedataset.zip     57%[==========>         ]  88.18M  2.46MB\/s    eta 19s    \rmoviedataset.zip     58%[==========>         ]  88.87M  2.48MB\/s    eta 19s    \rmoviedataset.zip     58%[==========>         ]  89.54M  2.50MB\/s    eta 19s    \rmoviedataset.zip     59%[==========>         ]  90.22M  2.51MB\/s    eta 19s    \rmoviedataset.zip     59%[==========>         ]  90.91M  2.53MB\/s    eta 18s    \rmoviedataset.zip     59%[==========>         ]  91.58M  2.54MB\/s    eta 18s    \rmoviedataset.zip     60%[===========>        ]  92.30M  2.58MB\/s    eta 18s    \rmoviedataset.zip     60%[===========>        ]  93.02M  2.60MB\/s    eta 18s    \rmoviedataset.zip     61%[===========>        ]  93.77M  2.64MB\/s    eta 18s    \rmoviedataset.zip     61%[===========>        ]  94.50M  2.66MB\/s    eta 18s    \rmoviedataset.zip     62%[===========>        ]  95.24M  2.72MB\/s    eta 18s    \rmoviedataset.zip     62%[===========>        ]  95.74M  2.73MB\/s    eta 18s    \rmoviedataset.zip     63%[===========>        ]  96.49M  2.75MB\/s    eta 18s    \rmoviedataset.zip     63%[===========>        ]  97.26M  2.77MB\/s    eta 17s    \rmoviedataset.zip     64%[===========>        ]  98.02M  2.79MB\/s    eta 17s    \rmoviedataset.zip     64%[===========>        ]  98.79M  2.82MB\/s    eta 17s    \rmoviedataset.zip     65%[============>       ]  99.56M  2.85MB\/s    eta 17s    \rmoviedataset.zip     65%[============>       ] 100.33M  2.88MB\/s    eta 16s    \rmoviedataset.zip     66%[============>       ] 101.11M  2.90MB\/s    eta 16s    \rmoviedataset.zip     66%[============>       ] 101.90M  2.93MB\/s    eta 16s    \rmoviedataset.zip     67%[============>       ] 102.69M  2.95MB\/s    eta 16s    \rmoviedataset.zip     67%[============>       ] 103.49M  2.97MB\/s    eta 15s    \rmoviedataset.zip     68%[============>       ] 104.29M  2.99MB\/s    eta 15s    \rmoviedataset.zip     68%[============>       ] 105.10M  3.01MB\/s    eta 15s    \rmoviedataset.zip     69%[============>       ] 105.91M  3.03MB\/s    eta 15s    \rmoviedataset.zip     69%[============>       ] 106.72M  3.05MB\/s    eta 14s    \rmoviedataset.zip     70%[=============>      ] 107.55M  3.07MB\/s    eta 14s    \rmoviedataset.zip     70%[=============>      ] 108.38M  3.09MB\/s    eta 14s    \rmoviedataset.zip     71%[=============>      ] 109.21M  3.10MB\/s    eta 14s    \rmoviedataset.zip     71%[=============>      ] 110.05M  3.13MB\/s    eta 13s    \rmoviedataset.zip     72%[=============>      ] 110.90M  3.14MB\/s    eta 13s    \rmoviedataset.zip     73%[=============>      ] 111.74M  3.17MB\/s    eta 13s    \rmoviedataset.zip     73%[=============>      ] 112.58M  3.18MB\/s    eta 13s    \rmoviedataset.zip     74%[=============>      ] 113.44M  3.20MB\/s    eta 12s    \rmoviedataset.zip     74%[=============>      ] 114.30M  3.22MB\/s    eta 12s    \rmoviedataset.zip     75%[==============>     ] 115.18M  3.25MB\/s    eta 12s    \rmoviedataset.zip     75%[==============>     ] 116.05M  3.26MB\/s    eta 12s    \rmoviedataset.zip     76%[==============>     ] 116.91M  3.28MB\/s    eta 11s    \rmoviedataset.zip     77%[==============>     ] 117.80M  3.30MB\/s    eta 11s    \rmoviedataset.zip     77%[==============>     ] 118.69M  3.32MB\/s    eta 11s    \rmoviedataset.zip     78%[==============>     ] 119.58M  3.33MB\/s    eta 11s    \rmoviedataset.zip     78%[==============>     ] 120.48M  3.36MB\/s    eta 10s    \rmoviedataset.zip     79%[==============>     ] 121.38M  3.37MB\/s    eta 10s    \rmoviedataset.zip     79%[==============>     ] 122.28M  3.40MB\/s    eta 10s    \rmoviedataset.zip     80%[===============>    ] 123.19M  3.45MB\/s    eta 10s    \rmoviedataset.zip     80%[===============>    ] 123.82M  3.43MB\/s    eta 10s    \rmoviedataset.zip     81%[===============>    ] 124.61M  3.41MB\/s    eta 9s     \rmoviedataset.zip     82%[===============>    ] 125.38M  3.38MB\/s    eta 9s     \rmoviedataset.zip     82%[===============>    ] 126.14M  3.35MB\/s    eta 9s     \rmoviedataset.zip     83%[===============>    ] 126.93M  3.32MB\/s    eta 9s     \rmoviedataset.zip     83%[===============>    ] 127.74M  3.30MB\/s    eta 8s     \rmoviedataset.zip     84%[===============>    ] 128.57M  3.29MB\/s    eta 8s     \rmoviedataset.zip     84%[===============>    ] 129.43M  3.28MB\/s    eta 8s     \rmoviedataset.zip     85%[================>   ] 130.29M  3.30MB\/s    eta 8s     \rmoviedataset.zip     85%[================>   ] 130.88M  3.26MB\/s    eta 8s     \rmoviedataset.zip     86%[================>   ] 131.60M  3.25MB\/s    eta 6s     \rmoviedataset.zip     86%[================>   ] 132.09M  3.17MB\/s    eta 6s     \rmoviedataset.zip     86%[================>   ] 132.82M  3.17MB\/s    eta 6s     \rmoviedataset.zip     87%[================>   ] 133.33M  3.10MB\/s    eta 6s     \rmoviedataset.zip     87%[================>   ] 134.02M  3.09MB\/s    eta 6s     \rmoviedataset.zip     88%[================>   ] 134.54M  3.00MB\/s    eta 6s     \rmoviedataset.zip     88%[================>   ] 135.27M  3.03MB\/s    eta 6s     \rmoviedataset.zip     88%[================>   ] 135.80M  2.99MB\/s    eta 6s     \rmoviedataset.zip     89%[================>   ] 136.56M  3.04MB\/s    eta 6s     \rmoviedataset.zip     89%[================>   ] 137.10M  3.00MB\/s    eta 6s     \rmoviedataset.zip     90%[=================>  ] 137.74M  2.98MB\/s    eta 5s     \rmoviedataset.zip     90%[=================>  ] 138.41M  3.00MB\/s    eta 5s     \rmoviedataset.zip     90%[=================>  ] 139.04M  2.96MB\/s    eta 5s     \rmoviedataset.zip     91%[=================>  ] 139.68M  2.95MB\/s    eta 5s     \rmoviedataset.zip     91%[=================>  ] 140.30M  2.91MB\/s    eta 5s     \rmoviedataset.zip     92%[=================>  ] 140.96M  2.91MB\/s    eta 4s     \rmoviedataset.zip     92%[=================>  ] 141.60M  2.91MB\/s    eta 4s     \rmoviedataset.zip     93%[=================>  ] 142.28M  2.94MB\/s    eta 4s     \rmoviedataset.zip     93%[=================>  ] 142.91M  2.93MB\/s    eta 4s     \rmoviedataset.zip     93%[=================>  ] 143.60M  2.94MB\/s    eta 4s     \rmoviedataset.zip     94%[=================>  ] 144.21M  2.95MB\/s    eta 3s     \rmoviedataset.zip     94%[=================>  ] 144.90M  2.97MB\/s    eta 3s     \rmoviedataset.zip     95%[==================> ] 145.51M  2.97MB\/s    eta 3s     \rmoviedataset.zip     95%[==================> ] 146.19M  2.99MB\/s    eta 3s     \rmoviedataset.zip     96%[==================> ] 146.88M  2.98MB\/s    eta 3s     \rmoviedataset.zip     96%[==================> ] 147.53M  2.99MB\/s    eta 2s     \rmoviedataset.zip     96%[==================> ] 148.13M  2.98MB\/s    eta 2s     \rmoviedataset.zip     97%[==================> ] 148.84M  3.02MB\/s    eta 2s     \rmoviedataset.zip     97%[==================> ] 149.52M  3.01MB\/s    eta 2s     \rmoviedataset.zip     98%[==================> ] 150.25M  3.05MB\/s    eta 2s     \rmoviedataset.zip     98%[==================> ] 150.88M  3.05MB\/s    eta 1s     \rmoviedataset.zip     99%[==================> ] 151.63M  3.06MB\/s    eta 1s     \rmoviedataset.zip     99%[==================> ] 152.27M  3.07MB\/s    eta 1s     \rmoviedataset.zip    100%[===================>] 152.88M  3.10MB\/s    in 47s     \r\n",
      "\r\n",
      "2022-04-09 13:55:44 (3.25 MB\/s) - ‘moviedataset.zip’ saved [160301210\/160301210]\r\n",
      "\r\n",
      "unziping ...\n",
      "Archive:  moviedataset.zip\r\n",
      "  inflating: links.csv               \r\n",
      "  inflating: movies.csv              \r\n",
      "  inflating: ratings.csv             \r\n",
      "  inflating: README.txt              \r\n",
      "  inflating: tags.csv                \r\n"
     ],
     "output_type":"stream"
    }
   ],
   "metadata":{
    "datalore":{
     "type":"CODE",
     "hide_input_from_viewers":false,
     "hide_output_from_viewers":false
    }
   }
  },
  {
   "cell_type":"markdown",
   "source":[
    "Now you're ready to start working with the data!"
   ],
   "attachments":{
    
   },
   "metadata":{
    "datalore":{
     "type":"MD",
     "hide_input_from_viewers":false,
     "hide_output_from_viewers":false
    }
   }
  },
  {
   "cell_type":"markdown",
   "source":[
    "<hr>\n",
    "\n",
    "<a id=\"ref2\"><\/a>\n",
    "\n",
    "# Preprocessing"
   ],
   "attachments":{
    
   },
   "metadata":{
    "datalore":{
     "type":"MD",
     "hide_input_from_viewers":false,
     "hide_output_from_viewers":false
    }
   }
  },
  {
   "cell_type":"markdown",
   "source":[
    "First, let's get all of the imports out of the way:"
   ],
   "attachments":{
    
   },
   "metadata":{
    "datalore":{
     "type":"MD",
     "hide_input_from_viewers":false,
     "hide_output_from_viewers":false
    }
   }
  },
  {
   "cell_type":"code",
   "source":[
    "#Dataframe manipulation library\n",
    "import pandas as pd\n",
    "#Math functions, we'll only need the sqrt function so let's import only that\n",
    "from math import sqrt\n",
    "import numpy as np\n",
    "import matplotlib.pyplot as plt\n",
    "%matplotlib inline"
   ],
   "execution_count":2,
   "outputs":[
    
   ],
   "metadata":{
    "datalore":{
     "type":"CODE",
     "hide_input_from_viewers":false,
     "hide_output_from_viewers":false
    }
   }
  },
  {
   "cell_type":"markdown",
   "source":[
    "Now let's read each file into their Dataframes:"
   ],
   "attachments":{
    
   },
   "metadata":{
    "datalore":{
     "type":"MD",
     "hide_input_from_viewers":false,
     "hide_output_from_viewers":false
    }
   }
  },
  {
   "cell_type":"code",
   "source":[
    "#Storing the movie information into a pandas dataframe\n",
    "movies_df = pd.read_csv('movies.csv')\n",
    "#Storing the user information into a pandas dataframe\n",
    "ratings_df = pd.read_csv('ratings.csv')"
   ],
   "execution_count":3,
   "outputs":[
    
   ],
   "metadata":{
    "datalore":{
     "type":"CODE",
     "hide_input_from_viewers":false,
     "hide_output_from_viewers":false
    }
   }
  },
  {
   "cell_type":"markdown",
   "source":[
    "Let's also take a peek at how each of them are organized:"
   ],
   "attachments":{
    
   },
   "metadata":{
    "datalore":{
     "type":"MD",
     "hide_input_from_viewers":false,
     "hide_output_from_viewers":false
    }
   }
  },
  {
   "cell_type":"code",
   "source":[
    "#Head is a function that gets the first N rows of a dataframe. N's default is 5.\n",
    "movies_df.head()"
   ],
   "execution_count":4,
   "outputs":[
    {
     "data":{
      "text\/html":[
       "<div>\n",
       "<style scoped>\n",
       "    .dataframe tbody tr th:only-of-type {\n",
       "        vertical-align: middle;\n",
       "    }\n",
       "\n",
       "    .dataframe tbody tr th {\n",
       "        vertical-align: top;\n",
       "    }\n",
       "\n",
       "    .dataframe thead th {\n",
       "        text-align: right;\n",
       "    }\n",
       "<\/style>\n",
       "<table border=\"1\" class=\"dataframe\">\n",
       "  <thead>\n",
       "    <tr style=\"text-align: right;\">\n",
       "      <th><\/th>\n",
       "      <th>movieId<\/th>\n",
       "      <th>title<\/th>\n",
       "      <th>genres<\/th>\n",
       "    <\/tr>\n",
       "  <\/thead>\n",
       "  <tbody>\n",
       "    <tr>\n",
       "      <th>0<\/th>\n",
       "      <td>1<\/td>\n",
       "      <td>Toy Story (1995)<\/td>\n",
       "      <td>Adventure|Animation|Children|Comedy|Fantasy<\/td>\n",
       "    <\/tr>\n",
       "    <tr>\n",
       "      <th>1<\/th>\n",
       "      <td>2<\/td>\n",
       "      <td>Jumanji (1995)<\/td>\n",
       "      <td>Adventure|Children|Fantasy<\/td>\n",
       "    <\/tr>\n",
       "    <tr>\n",
       "      <th>2<\/th>\n",
       "      <td>3<\/td>\n",
       "      <td>Grumpier Old Men (1995)<\/td>\n",
       "      <td>Comedy|Romance<\/td>\n",
       "    <\/tr>\n",
       "    <tr>\n",
       "      <th>3<\/th>\n",
       "      <td>4<\/td>\n",
       "      <td>Waiting to Exhale (1995)<\/td>\n",
       "      <td>Comedy|Drama|Romance<\/td>\n",
       "    <\/tr>\n",
       "    <tr>\n",
       "      <th>4<\/th>\n",
       "      <td>5<\/td>\n",
       "      <td>Father of the Bride Part II (1995)<\/td>\n",
       "      <td>Comedy<\/td>\n",
       "    <\/tr>\n",
       "  <\/tbody>\n",
       "<\/table>\n",
       "<\/div>"
      ]
     },
     "metadata":{
      
     },
     "output_type":"display_data"
    }
   ],
   "metadata":{
    "datalore":{
     "type":"CODE",
     "hide_input_from_viewers":false,
     "hide_output_from_viewers":false
    }
   }
  },
  {
   "cell_type":"markdown",
   "source":[
    "So each movie has a unique ID, a title with its release year along with it (Which may contain unicode characters) and several different genres in the same field. Let's remove the year from the title column and place it into its own one by using the handy [extract](http:\/\/pandas.pydata.org\/pandas-docs\/stable\/generated\/pandas.Series.str.extract.html?utm_medium=Exinfluencer&utm_source=Exinfluencer&utm_content=000026UJ&utm_term=10006555&utm_id=NA-SkillsNetwork-Channel-SkillsNetworkCoursesIBMDeveloperSkillsNetworkML0101ENSkillsNetwork20718538-2021-01-01#pandas.Series.str.extract) function that Pandas has."
   ],
   "attachments":{
    
   },
   "metadata":{
    "datalore":{
     "type":"MD",
     "hide_input_from_viewers":false,
     "hide_output_from_viewers":false
    }
   }
  },
  {
   "cell_type":"markdown",
   "source":[
    "Let's remove the year from the **title** column by using pandas' replace function and store it in a new **year** column."
   ],
   "attachments":{
    
   },
   "metadata":{
    "datalore":{
     "type":"MD",
     "hide_input_from_viewers":false,
     "hide_output_from_viewers":false
    }
   }
  },
  {
   "cell_type":"code",
   "source":[
    "#Using regular expressions to find a year stored between parentheses\n",
    "#We specify the parantheses so we don't conflict with movies that have years in their titles\n",
    "movies_df['year'] = movies_df.title.str.extract('(\\(\\d\\d\\d\\d\\))',expand=False)\n",
    "#Removing the parentheses\n",
    "movies_df['year'] = movies_df.year.str.extract('(\\d\\d\\d\\d)',expand=False)\n",
    "#Removing the years from the 'title' column\n",
    "movies_df['title'] = movies_df.title.str.replace('(\\(\\d\\d\\d\\d\\))', '')\n",
    "#Applying the strip function to get rid of any ending whitespace characters that may have appeared\n",
    "movies_df['title'] = movies_df['title'].apply(lambda x: x.strip())"
   ],
   "execution_count":5,
   "outputs":[
    {
     "name":"stderr",
     "text":[
      "<ipython-input-5-a9c0647d2a00>:7: FutureWarning: The default value of regex will change from True to False in a future version.\n",
      "  movies_df['title'] = movies_df.title.str.replace('(\\(\\d\\d\\d\\d\\))', '')\n"
     ],
     "output_type":"stream"
    }
   ],
   "metadata":{
    "datalore":{
     "type":"CODE",
     "hide_input_from_viewers":false,
     "hide_output_from_viewers":false
    }
   }
  },
  {
   "cell_type":"markdown",
   "source":[
    "Let's look at the result!"
   ],
   "attachments":{
    
   },
   "metadata":{
    "datalore":{
     "type":"MD",
     "hide_input_from_viewers":false,
     "hide_output_from_viewers":false
    }
   }
  },
  {
   "cell_type":"code",
   "source":[
    "movies_df.head()"
   ],
   "execution_count":6,
   "outputs":[
    {
     "data":{
      "text\/html":[
       "<div>\n",
       "<style scoped>\n",
       "    .dataframe tbody tr th:only-of-type {\n",
       "        vertical-align: middle;\n",
       "    }\n",
       "\n",
       "    .dataframe tbody tr th {\n",
       "        vertical-align: top;\n",
       "    }\n",
       "\n",
       "    .dataframe thead th {\n",
       "        text-align: right;\n",
       "    }\n",
       "<\/style>\n",
       "<table border=\"1\" class=\"dataframe\">\n",
       "  <thead>\n",
       "    <tr style=\"text-align: right;\">\n",
       "      <th><\/th>\n",
       "      <th>movieId<\/th>\n",
       "      <th>title<\/th>\n",
       "      <th>genres<\/th>\n",
       "      <th>year<\/th>\n",
       "    <\/tr>\n",
       "  <\/thead>\n",
       "  <tbody>\n",
       "    <tr>\n",
       "      <th>0<\/th>\n",
       "      <td>1<\/td>\n",
       "      <td>Toy Story<\/td>\n",
       "      <td>Adventure|Animation|Children|Comedy|Fantasy<\/td>\n",
       "      <td>1995<\/td>\n",
       "    <\/tr>\n",
       "    <tr>\n",
       "      <th>1<\/th>\n",
       "      <td>2<\/td>\n",
       "      <td>Jumanji<\/td>\n",
       "      <td>Adventure|Children|Fantasy<\/td>\n",
       "      <td>1995<\/td>\n",
       "    <\/tr>\n",
       "    <tr>\n",
       "      <th>2<\/th>\n",
       "      <td>3<\/td>\n",
       "      <td>Grumpier Old Men<\/td>\n",
       "      <td>Comedy|Romance<\/td>\n",
       "      <td>1995<\/td>\n",
       "    <\/tr>\n",
       "    <tr>\n",
       "      <th>3<\/th>\n",
       "      <td>4<\/td>\n",
       "      <td>Waiting to Exhale<\/td>\n",
       "      <td>Comedy|Drama|Romance<\/td>\n",
       "      <td>1995<\/td>\n",
       "    <\/tr>\n",
       "    <tr>\n",
       "      <th>4<\/th>\n",
       "      <td>5<\/td>\n",
       "      <td>Father of the Bride Part II<\/td>\n",
       "      <td>Comedy<\/td>\n",
       "      <td>1995<\/td>\n",
       "    <\/tr>\n",
       "  <\/tbody>\n",
       "<\/table>\n",
       "<\/div>"
      ]
     },
     "metadata":{
      
     },
     "output_type":"display_data"
    }
   ],
   "metadata":{
    "datalore":{
     "type":"CODE",
     "hide_input_from_viewers":false,
     "hide_output_from_viewers":false
    }
   }
  },
  {
   "cell_type":"markdown",
   "source":[
    "With that, let's also drop the genres column since we won't need it for this particular recommendation system."
   ],
   "attachments":{
    
   },
   "metadata":{
    "datalore":{
     "type":"MD",
     "hide_input_from_viewers":false,
     "hide_output_from_viewers":false
    }
   }
  },
  {
   "cell_type":"code",
   "source":[
    "#Dropping the genres column\n",
    "movies_df = movies_df.drop('genres', 1)"
   ],
   "execution_count":7,
   "outputs":[
    {
     "name":"stderr",
     "text":[
      "<ipython-input-7-11bd22ac6834>:2: FutureWarning: In a future version of pandas all arguments of DataFrame.drop except for the argument 'labels' will be keyword-only\n",
      "  movies_df = movies_df.drop('genres', 1)\n"
     ],
     "output_type":"stream"
    }
   ],
   "metadata":{
    "datalore":{
     "type":"CODE",
     "hide_input_from_viewers":false,
     "hide_output_from_viewers":false
    }
   }
  },
  {
   "cell_type":"markdown",
   "source":[
    "Here's the final movies dataframe:"
   ],
   "attachments":{
    
   },
   "metadata":{
    "datalore":{
     "type":"MD",
     "hide_input_from_viewers":false,
     "hide_output_from_viewers":false
    }
   }
  },
  {
   "cell_type":"code",
   "source":[
    "movies_df.head()"
   ],
   "execution_count":8,
   "outputs":[
    {
     "data":{
      "text\/html":[
       "<div>\n",
       "<style scoped>\n",
       "    .dataframe tbody tr th:only-of-type {\n",
       "        vertical-align: middle;\n",
       "    }\n",
       "\n",
       "    .dataframe tbody tr th {\n",
       "        vertical-align: top;\n",
       "    }\n",
       "\n",
       "    .dataframe thead th {\n",
       "        text-align: right;\n",
       "    }\n",
       "<\/style>\n",
       "<table border=\"1\" class=\"dataframe\">\n",
       "  <thead>\n",
       "    <tr style=\"text-align: right;\">\n",
       "      <th><\/th>\n",
       "      <th>movieId<\/th>\n",
       "      <th>title<\/th>\n",
       "      <th>year<\/th>\n",
       "    <\/tr>\n",
       "  <\/thead>\n",
       "  <tbody>\n",
       "    <tr>\n",
       "      <th>0<\/th>\n",
       "      <td>1<\/td>\n",
       "      <td>Toy Story<\/td>\n",
       "      <td>1995<\/td>\n",
       "    <\/tr>\n",
       "    <tr>\n",
       "      <th>1<\/th>\n",
       "      <td>2<\/td>\n",
       "      <td>Jumanji<\/td>\n",
       "      <td>1995<\/td>\n",
       "    <\/tr>\n",
       "    <tr>\n",
       "      <th>2<\/th>\n",
       "      <td>3<\/td>\n",
       "      <td>Grumpier Old Men<\/td>\n",
       "      <td>1995<\/td>\n",
       "    <\/tr>\n",
       "    <tr>\n",
       "      <th>3<\/th>\n",
       "      <td>4<\/td>\n",
       "      <td>Waiting to Exhale<\/td>\n",
       "      <td>1995<\/td>\n",
       "    <\/tr>\n",
       "    <tr>\n",
       "      <th>4<\/th>\n",
       "      <td>5<\/td>\n",
       "      <td>Father of the Bride Part II<\/td>\n",
       "      <td>1995<\/td>\n",
       "    <\/tr>\n",
       "  <\/tbody>\n",
       "<\/table>\n",
       "<\/div>"
      ]
     },
     "metadata":{
      
     },
     "output_type":"display_data"
    }
   ],
   "metadata":{
    "datalore":{
     "type":"CODE",
     "hide_input_from_viewers":false,
     "hide_output_from_viewers":false
    }
   }
  },
  {
   "cell_type":"markdown",
   "source":[
    "<br>"
   ],
   "attachments":{
    
   },
   "metadata":{
    "datalore":{
     "type":"MD",
     "hide_input_from_viewers":false,
     "hide_output_from_viewers":false
    }
   }
  },
  {
   "cell_type":"markdown",
   "source":[
    "Next, let's look at the ratings dataframe."
   ],
   "attachments":{
    
   },
   "metadata":{
    "datalore":{
     "type":"MD",
     "hide_input_from_viewers":false,
     "hide_output_from_viewers":false
    }
   }
  },
  {
   "cell_type":"code",
   "source":[
    "ratings_df.head()"
   ],
   "execution_count":9,
   "outputs":[
    {
     "data":{
      "text\/html":[
       "<div>\n",
       "<style scoped>\n",
       "    .dataframe tbody tr th:only-of-type {\n",
       "        vertical-align: middle;\n",
       "    }\n",
       "\n",
       "    .dataframe tbody tr th {\n",
       "        vertical-align: top;\n",
       "    }\n",
       "\n",
       "    .dataframe thead th {\n",
       "        text-align: right;\n",
       "    }\n",
       "<\/style>\n",
       "<table border=\"1\" class=\"dataframe\">\n",
       "  <thead>\n",
       "    <tr style=\"text-align: right;\">\n",
       "      <th><\/th>\n",
       "      <th>userId<\/th>\n",
       "      <th>movieId<\/th>\n",
       "      <th>rating<\/th>\n",
       "      <th>timestamp<\/th>\n",
       "    <\/tr>\n",
       "  <\/thead>\n",
       "  <tbody>\n",
       "    <tr>\n",
       "      <th>0<\/th>\n",
       "      <td>1<\/td>\n",
       "      <td>169<\/td>\n",
       "      <td>2.5<\/td>\n",
       "      <td>1204927694<\/td>\n",
       "    <\/tr>\n",
       "    <tr>\n",
       "      <th>1<\/th>\n",
       "      <td>1<\/td>\n",
       "      <td>2471<\/td>\n",
       "      <td>3.0<\/td>\n",
       "      <td>1204927438<\/td>\n",
       "    <\/tr>\n",
       "    <tr>\n",
       "      <th>2<\/th>\n",
       "      <td>1<\/td>\n",
       "      <td>48516<\/td>\n",
       "      <td>5.0<\/td>\n",
       "      <td>1204927435<\/td>\n",
       "    <\/tr>\n",
       "    <tr>\n",
       "      <th>3<\/th>\n",
       "      <td>2<\/td>\n",
       "      <td>2571<\/td>\n",
       "      <td>3.5<\/td>\n",
       "      <td>1436165433<\/td>\n",
       "    <\/tr>\n",
       "    <tr>\n",
       "      <th>4<\/th>\n",
       "      <td>2<\/td>\n",
       "      <td>109487<\/td>\n",
       "      <td>4.0<\/td>\n",
       "      <td>1436165496<\/td>\n",
       "    <\/tr>\n",
       "  <\/tbody>\n",
       "<\/table>\n",
       "<\/div>"
      ]
     },
     "metadata":{
      
     },
     "output_type":"display_data"
    }
   ],
   "metadata":{
    "datalore":{
     "type":"CODE",
     "hide_input_from_viewers":false,
     "hide_output_from_viewers":false
    }
   }
  },
  {
   "cell_type":"markdown",
   "source":[
    "Every row in the ratings dataframe has a user id associated with at least one movie, a rating and a timestamp showing when they reviewed it. We won't be needing the timestamp column, so let's drop it to save on memory."
   ],
   "attachments":{
    
   },
   "metadata":{
    "datalore":{
     "type":"MD",
     "hide_input_from_viewers":false,
     "hide_output_from_viewers":false
    }
   }
  },
  {
   "cell_type":"code",
   "source":[
    "#Drop removes a specified row or column from a dataframe\n",
    "ratings_df = ratings_df.drop('timestamp', 1)"
   ],
   "execution_count":10,
   "outputs":[
    {
     "name":"stderr",
     "text":[
      "<ipython-input-10-bb654127c8fa>:2: FutureWarning: In a future version of pandas all arguments of DataFrame.drop except for the argument 'labels' will be keyword-only\n",
      "  ratings_df = ratings_df.drop('timestamp', 1)\n"
     ],
     "output_type":"stream"
    }
   ],
   "metadata":{
    "datalore":{
     "type":"CODE",
     "hide_input_from_viewers":false,
     "hide_output_from_viewers":false
    }
   }
  },
  {
   "cell_type":"markdown",
   "source":[
    "Here's how the final ratings Dataframe looks like:"
   ],
   "attachments":{
    
   },
   "metadata":{
    "datalore":{
     "type":"MD",
     "hide_input_from_viewers":false,
     "hide_output_from_viewers":false
    }
   }
  },
  {
   "cell_type":"code",
   "source":[
    "ratings_df.head()"
   ],
   "execution_count":11,
   "outputs":[
    {
     "data":{
      "text\/html":[
       "<div>\n",
       "<style scoped>\n",
       "    .dataframe tbody tr th:only-of-type {\n",
       "        vertical-align: middle;\n",
       "    }\n",
       "\n",
       "    .dataframe tbody tr th {\n",
       "        vertical-align: top;\n",
       "    }\n",
       "\n",
       "    .dataframe thead th {\n",
       "        text-align: right;\n",
       "    }\n",
       "<\/style>\n",
       "<table border=\"1\" class=\"dataframe\">\n",
       "  <thead>\n",
       "    <tr style=\"text-align: right;\">\n",
       "      <th><\/th>\n",
       "      <th>userId<\/th>\n",
       "      <th>movieId<\/th>\n",
       "      <th>rating<\/th>\n",
       "    <\/tr>\n",
       "  <\/thead>\n",
       "  <tbody>\n",
       "    <tr>\n",
       "      <th>0<\/th>\n",
       "      <td>1<\/td>\n",
       "      <td>169<\/td>\n",
       "      <td>2.5<\/td>\n",
       "    <\/tr>\n",
       "    <tr>\n",
       "      <th>1<\/th>\n",
       "      <td>1<\/td>\n",
       "      <td>2471<\/td>\n",
       "      <td>3.0<\/td>\n",
       "    <\/tr>\n",
       "    <tr>\n",
       "      <th>2<\/th>\n",
       "      <td>1<\/td>\n",
       "      <td>48516<\/td>\n",
       "      <td>5.0<\/td>\n",
       "    <\/tr>\n",
       "    <tr>\n",
       "      <th>3<\/th>\n",
       "      <td>2<\/td>\n",
       "      <td>2571<\/td>\n",
       "      <td>3.5<\/td>\n",
       "    <\/tr>\n",
       "    <tr>\n",
       "      <th>4<\/th>\n",
       "      <td>2<\/td>\n",
       "      <td>109487<\/td>\n",
       "      <td>4.0<\/td>\n",
       "    <\/tr>\n",
       "  <\/tbody>\n",
       "<\/table>\n",
       "<\/div>"
      ]
     },
     "metadata":{
      
     },
     "output_type":"display_data"
    }
   ],
   "metadata":{
    "datalore":{
     "type":"CODE",
     "hide_input_from_viewers":false,
     "hide_output_from_viewers":false
    }
   }
  },
  {
   "cell_type":"markdown",
   "source":[
    "<hr>\n",
    "\n",
    "<a id=\"ref3\"><\/a>\n",
    "\n",
    "# Collaborative Filtering"
   ],
   "attachments":{
    
   },
   "metadata":{
    "datalore":{
     "type":"MD",
     "hide_input_from_viewers":false,
     "hide_output_from_viewers":false
    }
   }
  },
  {
   "cell_type":"markdown",
   "source":[
    "Now it's time to start our work on recommendation systems.\n",
    "\n",
    "The first technique we're going to take a look at is called **Collaborative Filtering**, which is also known as **User-User Filtering**. As hinted by its alternate name, this technique uses other users to recommend items to the input user. It attempts to find users that have similar preferences and opinions as the input and then recommends items that they have liked to the input. There are several methods of finding similar users (Even some making use of Machine Learning), and the one we will be using here is going to be based on the **Pearson Correlation Function**.\n",
    "\n",
    "<img src=\"https:\/\/cf-courses-data.s3.us.cloud-object-storage.appdomain.cloud\/IBMDeveloperSkillsNetwork-ML0101EN-SkillsNetwork\/labs\/Module%205\/images\/User_Item.png\" width=800px>\n",
    "\n",
    "The process for creating a User Based recommendation system is as follows:\n",
    "\n",
    "*   Select a user with the movies the user has watched\n",
    "*   Based on his rating of the movies, find the top X neighbours\n",
    "*   Get the watched movie record of the user for each neighbour\n",
    "*   Calculate a similarity score using some formula\n",
    "*   Recommend the items with the highest score\n",
    "\n",
    "Let's begin by creating an input user to recommend movies to:\n",
    "\n",
    "Notice: To add more movies, simply increase the amount of elements in the userInput. Feel free to add more in! Just be sure to write it in with capital letters and if a movie starts with a \"The\", like \"The Matrix\" then write it in like this: 'Matrix, The' ."
   ],
   "attachments":{
    
   },
   "metadata":{
    "datalore":{
     "type":"MD",
     "hide_input_from_viewers":false,
     "hide_output_from_viewers":false
    }
   }
  },
  {
   "cell_type":"code",
   "source":[
    "userInput = [\n",
    "            {'title':'Breakfast Club, The', 'rating':5},\n",
    "            {'title':'Toy Story', 'rating':3.5},\n",
    "            {'title':'Jumanji', 'rating':2},\n",
    "            {'title':\"Pulp Fiction\", 'rating':5},\n",
    "            {'title':'Akira', 'rating':4.5}\n",
    "         ] \n",
    "inputMovies = pd.DataFrame(userInput)\n",
    "inputMovies"
   ],
   "execution_count":12,
   "outputs":[
    {
     "data":{
      "text\/html":[
       "<div>\n",
       "<style scoped>\n",
       "    .dataframe tbody tr th:only-of-type {\n",
       "        vertical-align: middle;\n",
       "    }\n",
       "\n",
       "    .dataframe tbody tr th {\n",
       "        vertical-align: top;\n",
       "    }\n",
       "\n",
       "    .dataframe thead th {\n",
       "        text-align: right;\n",
       "    }\n",
       "<\/style>\n",
       "<table border=\"1\" class=\"dataframe\">\n",
       "  <thead>\n",
       "    <tr style=\"text-align: right;\">\n",
       "      <th><\/th>\n",
       "      <th>title<\/th>\n",
       "      <th>rating<\/th>\n",
       "    <\/tr>\n",
       "  <\/thead>\n",
       "  <tbody>\n",
       "    <tr>\n",
       "      <th>0<\/th>\n",
       "      <td>Breakfast Club, The<\/td>\n",
       "      <td>5.0<\/td>\n",
       "    <\/tr>\n",
       "    <tr>\n",
       "      <th>1<\/th>\n",
       "      <td>Toy Story<\/td>\n",
       "      <td>3.5<\/td>\n",
       "    <\/tr>\n",
       "    <tr>\n",
       "      <th>2<\/th>\n",
       "      <td>Jumanji<\/td>\n",
       "      <td>2.0<\/td>\n",
       "    <\/tr>\n",
       "    <tr>\n",
       "      <th>3<\/th>\n",
       "      <td>Pulp Fiction<\/td>\n",
       "      <td>5.0<\/td>\n",
       "    <\/tr>\n",
       "    <tr>\n",
       "      <th>4<\/th>\n",
       "      <td>Akira<\/td>\n",
       "      <td>4.5<\/td>\n",
       "    <\/tr>\n",
       "  <\/tbody>\n",
       "<\/table>\n",
       "<\/div>"
      ]
     },
     "metadata":{
      
     },
     "output_type":"display_data"
    }
   ],
   "metadata":{
    "datalore":{
     "type":"CODE",
     "hide_input_from_viewers":false,
     "hide_output_from_viewers":false
    }
   }
  },
  {
   "cell_type":"markdown",
   "source":[
    "#### Add movieId to input user\n",
    "\n",
    "With the input complete, let's extract the input movies's ID's from the movies dataframe and add them into it.\n",
    "\n",
    "We can achieve this by first filtering out the rows that contain the input movies' title and then merging this subset with the input dataframe. We also drop unnecessary columns for the input to save memory space."
   ],
   "attachments":{
    
   },
   "metadata":{
    "datalore":{
     "type":"MD",
     "hide_input_from_viewers":false,
     "hide_output_from_viewers":false
    }
   }
  },
  {
   "cell_type":"code",
   "source":[
    "#Filtering out the movies by title\n",
    "inputId = movies_df[movies_df['title'].isin(inputMovies['title'].tolist())]\n",
    "#Then merging it so we can get the movieId. It's implicitly merging it by title.\n",
    "inputMovies = pd.merge(inputId, inputMovies)\n",
    "#Dropping information we won't use from the input dataframe\n",
    "inputMovies = inputMovies.drop('year', 1)\n",
    "#Final input dataframe\n",
    "#If a movie you added in above isn't here, then it might not be in the original \n",
    "#dataframe or it might spelled differently, please check capitalisation.\n",
    "inputMovies"
   ],
   "execution_count":13,
   "outputs":[
    {
     "name":"stderr",
     "text":[
      "<ipython-input-13-e354c359611f>:6: FutureWarning: In a future version of pandas all arguments of DataFrame.drop except for the argument 'labels' will be keyword-only\n",
      "  inputMovies = inputMovies.drop('year', 1)\n"
     ],
     "output_type":"stream"
    },
    {
     "data":{
      "text\/html":[
       "<div>\n",
       "<style scoped>\n",
       "    .dataframe tbody tr th:only-of-type {\n",
       "        vertical-align: middle;\n",
       "    }\n",
       "\n",
       "    .dataframe tbody tr th {\n",
       "        vertical-align: top;\n",
       "    }\n",
       "\n",
       "    .dataframe thead th {\n",
       "        text-align: right;\n",
       "    }\n",
       "<\/style>\n",
       "<table border=\"1\" class=\"dataframe\">\n",
       "  <thead>\n",
       "    <tr style=\"text-align: right;\">\n",
       "      <th><\/th>\n",
       "      <th>movieId<\/th>\n",
       "      <th>title<\/th>\n",
       "      <th>rating<\/th>\n",
       "    <\/tr>\n",
       "  <\/thead>\n",
       "  <tbody>\n",
       "    <tr>\n",
       "      <th>0<\/th>\n",
       "      <td>1<\/td>\n",
       "      <td>Toy Story<\/td>\n",
       "      <td>3.5<\/td>\n",
       "    <\/tr>\n",
       "    <tr>\n",
       "      <th>1<\/th>\n",
       "      <td>2<\/td>\n",
       "      <td>Jumanji<\/td>\n",
       "      <td>2.0<\/td>\n",
       "    <\/tr>\n",
       "    <tr>\n",
       "      <th>2<\/th>\n",
       "      <td>296<\/td>\n",
       "      <td>Pulp Fiction<\/td>\n",
       "      <td>5.0<\/td>\n",
       "    <\/tr>\n",
       "    <tr>\n",
       "      <th>3<\/th>\n",
       "      <td>1274<\/td>\n",
       "      <td>Akira<\/td>\n",
       "      <td>4.5<\/td>\n",
       "    <\/tr>\n",
       "    <tr>\n",
       "      <th>4<\/th>\n",
       "      <td>1968<\/td>\n",
       "      <td>Breakfast Club, The<\/td>\n",
       "      <td>5.0<\/td>\n",
       "    <\/tr>\n",
       "  <\/tbody>\n",
       "<\/table>\n",
       "<\/div>"
      ]
     },
     "metadata":{
      
     },
     "output_type":"display_data"
    }
   ],
   "metadata":{
    "datalore":{
     "type":"CODE",
     "hide_input_from_viewers":false,
     "hide_output_from_viewers":false
    }
   }
  },
  {
   "cell_type":"markdown",
   "source":[
    "#### The users who has seen the same movies\n",
    "\n",
    "Now with the movie ID's in our input, we can now get the subset of users that have watched and reviewed the movies in our input."
   ],
   "attachments":{
    
   },
   "metadata":{
    "datalore":{
     "type":"MD",
     "hide_input_from_viewers":false,
     "hide_output_from_viewers":false
    }
   }
  },
  {
   "cell_type":"code",
   "source":[
    "#Filtering out users that have watched movies that the input has watched and storing it\n",
    "userSubset = ratings_df[ratings_df['movieId'].isin(inputMovies['movieId'].tolist())]\n",
    "userSubset.head()"
   ],
   "execution_count":14,
   "outputs":[
    {
     "data":{
      "text\/html":[
       "<div>\n",
       "<style scoped>\n",
       "    .dataframe tbody tr th:only-of-type {\n",
       "        vertical-align: middle;\n",
       "    }\n",
       "\n",
       "    .dataframe tbody tr th {\n",
       "        vertical-align: top;\n",
       "    }\n",
       "\n",
       "    .dataframe thead th {\n",
       "        text-align: right;\n",
       "    }\n",
       "<\/style>\n",
       "<table border=\"1\" class=\"dataframe\">\n",
       "  <thead>\n",
       "    <tr style=\"text-align: right;\">\n",
       "      <th><\/th>\n",
       "      <th>userId<\/th>\n",
       "      <th>movieId<\/th>\n",
       "      <th>rating<\/th>\n",
       "    <\/tr>\n",
       "  <\/thead>\n",
       "  <tbody>\n",
       "    <tr>\n",
       "      <th>19<\/th>\n",
       "      <td>4<\/td>\n",
       "      <td>296<\/td>\n",
       "      <td>4.0<\/td>\n",
       "    <\/tr>\n",
       "    <tr>\n",
       "      <th>441<\/th>\n",
       "      <td>12<\/td>\n",
       "      <td>1968<\/td>\n",
       "      <td>3.0<\/td>\n",
       "    <\/tr>\n",
       "    <tr>\n",
       "      <th>479<\/th>\n",
       "      <td>13<\/td>\n",
       "      <td>2<\/td>\n",
       "      <td>2.0<\/td>\n",
       "    <\/tr>\n",
       "    <tr>\n",
       "      <th>531<\/th>\n",
       "      <td>13<\/td>\n",
       "      <td>1274<\/td>\n",
       "      <td>5.0<\/td>\n",
       "    <\/tr>\n",
       "    <tr>\n",
       "      <th>681<\/th>\n",
       "      <td>14<\/td>\n",
       "      <td>296<\/td>\n",
       "      <td>2.0<\/td>\n",
       "    <\/tr>\n",
       "  <\/tbody>\n",
       "<\/table>\n",
       "<\/div>"
      ]
     },
     "metadata":{
      
     },
     "output_type":"display_data"
    }
   ],
   "metadata":{
    "datalore":{
     "type":"CODE",
     "hide_input_from_viewers":false,
     "hide_output_from_viewers":false
    }
   }
  },
  {
   "cell_type":"markdown",
   "source":[
    "We now group up the rows by user ID."
   ],
   "attachments":{
    
   },
   "metadata":{
    "datalore":{
     "type":"MD",
     "hide_input_from_viewers":false,
     "hide_output_from_viewers":false
    }
   }
  },
  {
   "cell_type":"code",
   "source":[
    "#Groupby creates several sub dataframes where they all have the same value in the column specified as the parameter\n",
    "userSubsetGroup = userSubset.groupby(['userId'])"
   ],
   "execution_count":15,
   "outputs":[
    
   ],
   "metadata":{
    "datalore":{
     "type":"CODE",
     "hide_input_from_viewers":false,
     "hide_output_from_viewers":false
    }
   }
  },
  {
   "cell_type":"markdown",
   "source":[
    "Let's look at one of the users, e.g. the one with userID=1130."
   ],
   "attachments":{
    
   },
   "metadata":{
    "datalore":{
     "type":"MD",
     "hide_input_from_viewers":false,
     "hide_output_from_viewers":false
    }
   }
  },
  {
   "cell_type":"code",
   "source":[
    "userSubsetGroup.get_group(1130)"
   ],
   "execution_count":16,
   "outputs":[
    {
     "data":{
      "text\/html":[
       "<div>\n",
       "<style scoped>\n",
       "    .dataframe tbody tr th:only-of-type {\n",
       "        vertical-align: middle;\n",
       "    }\n",
       "\n",
       "    .dataframe tbody tr th {\n",
       "        vertical-align: top;\n",
       "    }\n",
       "\n",
       "    .dataframe thead th {\n",
       "        text-align: right;\n",
       "    }\n",
       "<\/style>\n",
       "<table border=\"1\" class=\"dataframe\">\n",
       "  <thead>\n",
       "    <tr style=\"text-align: right;\">\n",
       "      <th><\/th>\n",
       "      <th>userId<\/th>\n",
       "      <th>movieId<\/th>\n",
       "      <th>rating<\/th>\n",
       "    <\/tr>\n",
       "  <\/thead>\n",
       "  <tbody>\n",
       "    <tr>\n",
       "      <th>104167<\/th>\n",
       "      <td>1130<\/td>\n",
       "      <td>1<\/td>\n",
       "      <td>0.5<\/td>\n",
       "    <\/tr>\n",
       "    <tr>\n",
       "      <th>104168<\/th>\n",
       "      <td>1130<\/td>\n",
       "      <td>2<\/td>\n",
       "      <td>4.0<\/td>\n",
       "    <\/tr>\n",
       "    <tr>\n",
       "      <th>104214<\/th>\n",
       "      <td>1130<\/td>\n",
       "      <td>296<\/td>\n",
       "      <td>4.0<\/td>\n",
       "    <\/tr>\n",
       "    <tr>\n",
       "      <th>104363<\/th>\n",
       "      <td>1130<\/td>\n",
       "      <td>1274<\/td>\n",
       "      <td>4.5<\/td>\n",
       "    <\/tr>\n",
       "    <tr>\n",
       "      <th>104443<\/th>\n",
       "      <td>1130<\/td>\n",
       "      <td>1968<\/td>\n",
       "      <td>4.5<\/td>\n",
       "    <\/tr>\n",
       "  <\/tbody>\n",
       "<\/table>\n",
       "<\/div>"
      ]
     },
     "metadata":{
      
     },
     "output_type":"display_data"
    }
   ],
   "metadata":{
    "datalore":{
     "type":"CODE",
     "hide_input_from_viewers":false,
     "hide_output_from_viewers":false
    }
   }
  },
  {
   "cell_type":"markdown",
   "source":[
    "Let's also sort these groups so the users that share the most movies in common with the input have higher priority. This provides a richer recommendation since we won't go through every single user."
   ],
   "attachments":{
    
   },
   "metadata":{
    "datalore":{
     "type":"MD",
     "hide_input_from_viewers":false,
     "hide_output_from_viewers":false
    }
   }
  },
  {
   "cell_type":"code",
   "source":[
    "#Sorting it so users with movie most in common with the input will have priority\n",
    "userSubsetGroup = sorted(userSubsetGroup,  key=lambda x: len(x[1]), reverse=True)"
   ],
   "execution_count":17,
   "outputs":[
    
   ],
   "metadata":{
    "datalore":{
     "type":"CODE",
     "hide_input_from_viewers":false,
     "hide_output_from_viewers":false
    }
   }
  },
  {
   "cell_type":"markdown",
   "source":[
    "Now let's look at the first user."
   ],
   "attachments":{
    
   },
   "metadata":{
    "datalore":{
     "type":"MD",
     "hide_input_from_viewers":false,
     "hide_output_from_viewers":false
    }
   }
  },
  {
   "cell_type":"code",
   "source":[
    "userSubsetGroup[0:3]"
   ],
   "execution_count":18,
   "outputs":[
    {
     "data":{
      "text\/plain":[
       "[(75,\n",
       "        userId  movieId  rating\n",
       "  7507      75        1     5.0\n",
       "  7508      75        2     3.5\n",
       "  7540      75      296     5.0\n",
       "  7633      75     1274     4.5\n",
       "  7673      75     1968     5.0),\n",
       " (106,\n",
       "        userId  movieId  rating\n",
       "  9083     106        1     2.5\n",
       "  9084     106        2     3.0\n",
       "  9115     106      296     3.5\n",
       "  9198     106     1274     3.0\n",
       "  9238     106     1968     3.5),\n",
       " (686,\n",
       "         userId  movieId  rating\n",
       "  61336     686        1     4.0\n",
       "  61337     686        2     3.0\n",
       "  61377     686      296     4.0\n",
       "  61478     686     1274     4.0\n",
       "  61569     686     1968     5.0)]"
      ]
     },
     "metadata":{
      
     },
     "output_type":"display_data"
    }
   ],
   "metadata":{
    "datalore":{
     "type":"CODE",
     "hide_input_from_viewers":false,
     "hide_output_from_viewers":false
    }
   }
  },
  {
   "cell_type":"markdown",
   "source":[
    "#### Similarity of users to input user\n",
    "\n",
    "Next, we are going to compare all users (not really all !!!) to our specified user and find the one that is most similar.\\\n",
    "We're going to find out how similar each user is to the input through the **Pearson Correlation Coefficient**. It is used to measure the strength of a linear association between the two variables. The formula for finding this coefficient between sets X and Y with N values can be seen in the image below.\n",
    "\n",
    "Why Pearson Correlation?\n",
    "\n",
    "Pearson correlation is invariant to scaling, i.e. multiplying all elements by a nonzero constant or adding any constant to all elements. For example, if you have two vectors X and Y, then, pearson(X, Y) == pearson(X, 2 \\* Y + 3). This is a pretty important property in recommendation systems because, for example, two users might rate two series of items totally differently in terms of absolute rates, but they would be similar users (i.e. with similar ideas) with similar rates in various scales .\n",
    "\n",
    "![alt text](https:\/\/wikimedia.org\/api\/rest_v1\/media\/math\/render\/svg\/bd1ccc2979b0fd1c1aec96e386f686ae874f9ec0 \"Pearson Correlation\")\n",
    "\n",
    "The values given by the formula vary from r = -1 to r = 1, where 1 forms a direct correlation between the two entities (it means a perfect positive correlation) and -1 forms a perfect negative correlation.\n",
    "\n",
    "In our case, a 1 means that the two users have similar tastes while a -1 means the opposite."
   ],
   "attachments":{
    
   },
   "metadata":{
    "datalore":{
     "type":"MD",
     "hide_input_from_viewers":false,
     "hide_output_from_viewers":false
    }
   }
  },
  {
   "cell_type":"markdown",
   "source":[
    "We will select a subset of users to iterate through. This limit is imposed because we don't want to waste too much time going through every single user."
   ],
   "attachments":{
    
   },
   "metadata":{
    "datalore":{
     "type":"MD",
     "hide_input_from_viewers":false,
     "hide_output_from_viewers":false
    }
   }
  },
  {
   "cell_type":"code",
   "source":[
    "userSubsetGroup = userSubsetGroup[0:100]"
   ],
   "execution_count":19,
   "outputs":[
    
   ],
   "metadata":{
    "datalore":{
     "type":"CODE",
     "hide_input_from_viewers":false,
     "hide_output_from_viewers":false
    }
   }
  },
  {
   "cell_type":"markdown",
   "source":[
    "Now, we calculate the Pearson Correlation between input user and subset group, and store it in a dictionary, where the key is the user Id and the value is the coefficient."
   ],
   "attachments":{
    
   },
   "metadata":{
    "datalore":{
     "type":"MD",
     "hide_input_from_viewers":false,
     "hide_output_from_viewers":false
    }
   }
  },
  {
   "cell_type":"code",
   "source":[
    "#Store the Pearson Correlation in a dictionary, where the key is the user Id and the value is the coefficient\n",
    "pearsonCorrelationDict = {}\n",
    "\n",
    "#For every user group in our subset\n",
    "for name, group in userSubsetGroup:\n",
    "    #Let's start by sorting the input and current user group so the values aren't mixed up later on\n",
    "    group = group.sort_values(by='movieId')\n",
    "    inputMovies = inputMovies.sort_values(by='movieId')\n",
    "    #Get the N for the formula\n",
    "    nRatings = len(group)\n",
    "    #Get the review scores for the movies that they both have in common\n",
    "    temp_df = inputMovies[inputMovies['movieId'].isin(group['movieId'].tolist())]\n",
    "    #And then store them in a temporary buffer variable in a list format to facilitate future calculations\n",
    "    tempRatingList = temp_df['rating'].tolist()\n",
    "    #Let's also put the current user group reviews in a list format\n",
    "    tempGroupList = group['rating'].tolist()\n",
    "    #Now let's calculate the pearson correlation between two users, so called, x and y\n",
    "    Sxx = sum([i**2 for i in tempRatingList]) - pow(sum(tempRatingList),2)\/float(nRatings)\n",
    "    Syy = sum([i**2 for i in tempGroupList]) - pow(sum(tempGroupList),2)\/float(nRatings)\n",
    "    Sxy = sum( i*j for i, j in zip(tempRatingList, tempGroupList)) - sum(tempRatingList)*sum(tempGroupList)\/float(nRatings)\n",
    "    \n",
    "    #If the denominator is different than zero, then divide, else, 0 correlation.\n",
    "    if Sxx != 0 and Syy != 0:\n",
    "        pearsonCorrelationDict[name] = Sxy\/sqrt(Sxx*Syy)\n",
    "    else:\n",
    "        pearsonCorrelationDict[name] = 0"
   ],
   "execution_count":20,
   "outputs":[
    
   ],
   "metadata":{
    "datalore":{
     "type":"CODE",
     "hide_input_from_viewers":false,
     "hide_output_from_viewers":false
    }
   }
  },
  {
   "cell_type":"code",
   "source":[
    "pearsonCorrelationDict.items()"
   ],
   "execution_count":21,
   "outputs":[
    {
     "data":{
      "text\/plain":[
       "dict_items([(75, 0.8272781516947562), (106, 0.5860090386731182), (686, 0.8320502943378437), (815, 0.5765566601970551), (1040, 0.9434563530497265), (1130, 0.2891574659831201), (1502, 0.8770580193070299), (1599, 0.4385290096535153), (1625, 0.716114874039432), (1950, 0.179028718509858), (2065, 0.4385290096535153), (2128, 0.5860090386731196), (2432, 0.1386750490563073), (2791, 0.8770580193070299), (2839, 0.8204126541423674), (2948, -0.11720180773462392), (3025, 0.45124262819713973), (3040, 0.89514359254929), (3186, 0.6784622064861935), (3271, 0.26989594817970664), (3429, 0.0), (3734, -0.15041420939904673), (4099, 0.05860090386731196), (4208, 0.29417420270727607), (4282, -0.4385290096535115), (4292, 0.6564386345361464), (4415, -0.11183835382312353), (4586, -0.9024852563942795), (4725, -0.08006407690254357), (4818, 0.4885967564883424), (5104, 0.7674257668936507), (5165, -0.4385290096535153), (5547, 0.17200522903844556), (6082, -0.04728779924109591), (6207, 0.9615384615384616), (6366, 0.6577935144802716), (6482, 0.0), (6530, -0.3516054232038709), (7235, 0.6981407669689391), (7403, 0.11720180773462363), (7641, 0.7161148740394331), (7996, 0.626600514784504), (8008, -0.22562131409856986), (8086, 0.6933752452815365), (8245, 0.0), (8572, 0.8600261451922278), (8675, 0.5370861555295773), (9101, -0.08600261451922278), (9358, 0.692178738358485), (9663, 0.193972725041952), (9994, 0.5030272728659587), (10248, -0.24806946917841693), (10315, 0.537086155529574), (10368, 0.4688072309384945), (10607, 0.41602514716892186), (10707, 0.9615384615384616), (10863, 0.6020183016345595), (11314, 0.8204126541423654), (11399, 0.517260600111872), (11769, 0.9376144618769914), (11827, 0.4902903378454601), (12069, 0.0), (12120, 0.9292940047327363), (12211, 0.8600261451922278), (12325, 0.9616783115081544), (12916, 0.5860090386731196), (12921, 0.6611073566849309), (13053, 0.9607689228305227), (13142, 0.6016568375961863), (13260, 0.7844645405527362), (13366, 0.8951435925492911), (13768, 0.8770580193070289), (13888, 0.2508726030021272), (13923, 0.3516054232038718), (13934, 0.17200522903844556), (14529, 0.7417901772340937), (14551, 0.537086155529574), (14588, 0.21926450482675766), (14984, 0.716114874039432), (15137, 0.5860090386731196), (15157, 0.9035841064985974), (15466, 0.7205766921228921), (15670, 0.516015687115336), (15834, 0.22562131409856986), (16292, 0.6577935144802716), (16456, 0.7161148740394331), (16506, 0.5481612620668942), (17246, 0.48038446141526137), (17438, 0.7093169886164387), (17501, 0.8168748513121271), (17502, 0.8272781516947562), (17666, 0.7689238340176859), (17735, 0.7042381820123422), (17742, 0.3922322702763681), (17757, 0.64657575013984), (17854, 0.537086155529574), (17897, 0.8770580193070289), (17944, 0.2713848825944774), (18301, 0.29838119751643016), (18509, 0.1322214713369862)])"
      ]
     },
     "metadata":{
      
     },
     "output_type":"display_data"
    }
   ],
   "metadata":{
    "datalore":{
     "type":"CODE",
     "hide_input_from_viewers":false,
     "hide_output_from_viewers":false
    }
   }
  },
  {
   "cell_type":"code",
   "source":[
    "pearsonDF = pd.DataFrame.from_dict(pearsonCorrelationDict, orient='index')\n",
    "pearsonDF.columns = ['similarityIndex']\n",
    "pearsonDF['userId'] = pearsonDF.index\n",
    "pearsonDF.index = range(len(pearsonDF))\n",
    "pearsonDF.head()"
   ],
   "execution_count":22,
   "outputs":[
    {
     "data":{
      "text\/html":[
       "<div>\n",
       "<style scoped>\n",
       "    .dataframe tbody tr th:only-of-type {\n",
       "        vertical-align: middle;\n",
       "    }\n",
       "\n",
       "    .dataframe tbody tr th {\n",
       "        vertical-align: top;\n",
       "    }\n",
       "\n",
       "    .dataframe thead th {\n",
       "        text-align: right;\n",
       "    }\n",
       "<\/style>\n",
       "<table border=\"1\" class=\"dataframe\">\n",
       "  <thead>\n",
       "    <tr style=\"text-align: right;\">\n",
       "      <th><\/th>\n",
       "      <th>similarityIndex<\/th>\n",
       "      <th>userId<\/th>\n",
       "    <\/tr>\n",
       "  <\/thead>\n",
       "  <tbody>\n",
       "    <tr>\n",
       "      <th>0<\/th>\n",
       "      <td>0.827278<\/td>\n",
       "      <td>75<\/td>\n",
       "    <\/tr>\n",
       "    <tr>\n",
       "      <th>1<\/th>\n",
       "      <td>0.586009<\/td>\n",
       "      <td>106<\/td>\n",
       "    <\/tr>\n",
       "    <tr>\n",
       "      <th>2<\/th>\n",
       "      <td>0.832050<\/td>\n",
       "      <td>686<\/td>\n",
       "    <\/tr>\n",
       "    <tr>\n",
       "      <th>3<\/th>\n",
       "      <td>0.576557<\/td>\n",
       "      <td>815<\/td>\n",
       "    <\/tr>\n",
       "    <tr>\n",
       "      <th>4<\/th>\n",
       "      <td>0.943456<\/td>\n",
       "      <td>1040<\/td>\n",
       "    <\/tr>\n",
       "  <\/tbody>\n",
       "<\/table>\n",
       "<\/div>"
      ]
     },
     "metadata":{
      
     },
     "output_type":"display_data"
    }
   ],
   "metadata":{
    "datalore":{
     "type":"CODE",
     "hide_input_from_viewers":false,
     "hide_output_from_viewers":false
    }
   }
  },
  {
   "cell_type":"markdown",
   "source":[
    "#### The top x similar users to input user\n",
    "\n",
    "Now let's get the top 50 users that are most similar to the input."
   ],
   "attachments":{
    
   },
   "metadata":{
    "datalore":{
     "type":"MD",
     "hide_input_from_viewers":false,
     "hide_output_from_viewers":false
    }
   }
  },
  {
   "cell_type":"code",
   "source":[
    "topUsers=pearsonDF.sort_values(by='similarityIndex', ascending=False)[0:50]\n",
    "topUsers.head()"
   ],
   "execution_count":23,
   "outputs":[
    {
     "data":{
      "text\/html":[
       "<div>\n",
       "<style scoped>\n",
       "    .dataframe tbody tr th:only-of-type {\n",
       "        vertical-align: middle;\n",
       "    }\n",
       "\n",
       "    .dataframe tbody tr th {\n",
       "        vertical-align: top;\n",
       "    }\n",
       "\n",
       "    .dataframe thead th {\n",
       "        text-align: right;\n",
       "    }\n",
       "<\/style>\n",
       "<table border=\"1\" class=\"dataframe\">\n",
       "  <thead>\n",
       "    <tr style=\"text-align: right;\">\n",
       "      <th><\/th>\n",
       "      <th>similarityIndex<\/th>\n",
       "      <th>userId<\/th>\n",
       "    <\/tr>\n",
       "  <\/thead>\n",
       "  <tbody>\n",
       "    <tr>\n",
       "      <th>64<\/th>\n",
       "      <td>0.961678<\/td>\n",
       "      <td>12325<\/td>\n",
       "    <\/tr>\n",
       "    <tr>\n",
       "      <th>34<\/th>\n",
       "      <td>0.961538<\/td>\n",
       "      <td>6207<\/td>\n",
       "    <\/tr>\n",
       "    <tr>\n",
       "      <th>55<\/th>\n",
       "      <td>0.961538<\/td>\n",
       "      <td>10707<\/td>\n",
       "    <\/tr>\n",
       "    <tr>\n",
       "      <th>67<\/th>\n",
       "      <td>0.960769<\/td>\n",
       "      <td>13053<\/td>\n",
       "    <\/tr>\n",
       "    <tr>\n",
       "      <th>4<\/th>\n",
       "      <td>0.943456<\/td>\n",
       "      <td>1040<\/td>\n",
       "    <\/tr>\n",
       "  <\/tbody>\n",
       "<\/table>\n",
       "<\/div>"
      ]
     },
     "metadata":{
      
     },
     "output_type":"display_data"
    }
   ],
   "metadata":{
    "datalore":{
     "type":"CODE",
     "hide_input_from_viewers":false,
     "hide_output_from_viewers":false
    }
   }
  },
  {
   "cell_type":"markdown",
   "source":[
    "Now, let's start recommending movies to the input user.\n",
    "\n",
    "#### Rating of selected users to all movies\n",
    "\n",
    "We're going to do this by taking the weighted average of the ratings of the movies using the Pearson Correlation as the weight. But to do this, we first need to get the movies watched by the users in our **pearsonDF** from the ratings dataframe and then store their correlation in a new column called \\_similarityIndex\". This is achieved below by merging of these two tables."
   ],
   "attachments":{
    
   },
   "metadata":{
    "datalore":{
     "type":"MD",
     "hide_input_from_viewers":false,
     "hide_output_from_viewers":false
    }
   }
  },
  {
   "cell_type":"code",
   "source":[
    "topUsersRating=topUsers.merge(ratings_df, left_on='userId', right_on='userId', how='inner')\n",
    "topUsersRating.head()"
   ],
   "execution_count":24,
   "outputs":[
    {
     "data":{
      "text\/html":[
       "<div>\n",
       "<style scoped>\n",
       "    .dataframe tbody tr th:only-of-type {\n",
       "        vertical-align: middle;\n",
       "    }\n",
       "\n",
       "    .dataframe tbody tr th {\n",
       "        vertical-align: top;\n",
       "    }\n",
       "\n",
       "    .dataframe thead th {\n",
       "        text-align: right;\n",
       "    }\n",
       "<\/style>\n",
       "<table border=\"1\" class=\"dataframe\">\n",
       "  <thead>\n",
       "    <tr style=\"text-align: right;\">\n",
       "      <th><\/th>\n",
       "      <th>similarityIndex<\/th>\n",
       "      <th>userId<\/th>\n",
       "      <th>movieId<\/th>\n",
       "      <th>rating<\/th>\n",
       "    <\/tr>\n",
       "  <\/thead>\n",
       "  <tbody>\n",
       "    <tr>\n",
       "      <th>0<\/th>\n",
       "      <td>0.961678<\/td>\n",
       "      <td>12325<\/td>\n",
       "      <td>1<\/td>\n",
       "      <td>3.5<\/td>\n",
       "    <\/tr>\n",
       "    <tr>\n",
       "      <th>1<\/th>\n",
       "      <td>0.961678<\/td>\n",
       "      <td>12325<\/td>\n",
       "      <td>2<\/td>\n",
       "      <td>1.5<\/td>\n",
       "    <\/tr>\n",
       "    <tr>\n",
       "      <th>2<\/th>\n",
       "      <td>0.961678<\/td>\n",
       "      <td>12325<\/td>\n",
       "      <td>3<\/td>\n",
       "      <td>3.0<\/td>\n",
       "    <\/tr>\n",
       "    <tr>\n",
       "      <th>3<\/th>\n",
       "      <td>0.961678<\/td>\n",
       "      <td>12325<\/td>\n",
       "      <td>5<\/td>\n",
       "      <td>0.5<\/td>\n",
       "    <\/tr>\n",
       "    <tr>\n",
       "      <th>4<\/th>\n",
       "      <td>0.961678<\/td>\n",
       "      <td>12325<\/td>\n",
       "      <td>6<\/td>\n",
       "      <td>2.5<\/td>\n",
       "    <\/tr>\n",
       "  <\/tbody>\n",
       "<\/table>\n",
       "<\/div>"
      ]
     },
     "metadata":{
      
     },
     "output_type":"display_data"
    }
   ],
   "metadata":{
    "datalore":{
     "type":"CODE",
     "hide_input_from_viewers":false,
     "hide_output_from_viewers":false
    }
   }
  },
  {
   "cell_type":"markdown",
   "source":[
    "Now all we need to do is simply multiply the movie rating by its weight (the similarity index), then sum up the new ratings and divide it by the sum of the weights.\n",
    "\n",
    "We can easily do this by simply multiplying two columns, then grouping up the dataframe by movieId and then dividing two columns:\n",
    "\n",
    "It shows the idea of all similar users to candidate movies for the input user:"
   ],
   "attachments":{
    
   },
   "metadata":{
    "datalore":{
     "type":"MD",
     "hide_input_from_viewers":false,
     "hide_output_from_viewers":false
    }
   }
  },
  {
   "cell_type":"code",
   "source":[
    "#Multiplies the similarity by the user's ratings\n",
    "topUsersRating['weightedRating'] = topUsersRating['similarityIndex']*topUsersRating['rating']\n",
    "topUsersRating.head()"
   ],
   "execution_count":25,
   "outputs":[
    {
     "data":{
      "text\/html":[
       "<div>\n",
       "<style scoped>\n",
       "    .dataframe tbody tr th:only-of-type {\n",
       "        vertical-align: middle;\n",
       "    }\n",
       "\n",
       "    .dataframe tbody tr th {\n",
       "        vertical-align: top;\n",
       "    }\n",
       "\n",
       "    .dataframe thead th {\n",
       "        text-align: right;\n",
       "    }\n",
       "<\/style>\n",
       "<table border=\"1\" class=\"dataframe\">\n",
       "  <thead>\n",
       "    <tr style=\"text-align: right;\">\n",
       "      <th><\/th>\n",
       "      <th>similarityIndex<\/th>\n",
       "      <th>userId<\/th>\n",
       "      <th>movieId<\/th>\n",
       "      <th>rating<\/th>\n",
       "      <th>weightedRating<\/th>\n",
       "    <\/tr>\n",
       "  <\/thead>\n",
       "  <tbody>\n",
       "    <tr>\n",
       "      <th>0<\/th>\n",
       "      <td>0.961678<\/td>\n",
       "      <td>12325<\/td>\n",
       "      <td>1<\/td>\n",
       "      <td>3.5<\/td>\n",
       "      <td>3.365874<\/td>\n",
       "    <\/tr>\n",
       "    <tr>\n",
       "      <th>1<\/th>\n",
       "      <td>0.961678<\/td>\n",
       "      <td>12325<\/td>\n",
       "      <td>2<\/td>\n",
       "      <td>1.5<\/td>\n",
       "      <td>1.442517<\/td>\n",
       "    <\/tr>\n",
       "    <tr>\n",
       "      <th>2<\/th>\n",
       "      <td>0.961678<\/td>\n",
       "      <td>12325<\/td>\n",
       "      <td>3<\/td>\n",
       "      <td>3.0<\/td>\n",
       "      <td>2.885035<\/td>\n",
       "    <\/tr>\n",
       "    <tr>\n",
       "      <th>3<\/th>\n",
       "      <td>0.961678<\/td>\n",
       "      <td>12325<\/td>\n",
       "      <td>5<\/td>\n",
       "      <td>0.5<\/td>\n",
       "      <td>0.480839<\/td>\n",
       "    <\/tr>\n",
       "    <tr>\n",
       "      <th>4<\/th>\n",
       "      <td>0.961678<\/td>\n",
       "      <td>12325<\/td>\n",
       "      <td>6<\/td>\n",
       "      <td>2.5<\/td>\n",
       "      <td>2.404196<\/td>\n",
       "    <\/tr>\n",
       "  <\/tbody>\n",
       "<\/table>\n",
       "<\/div>"
      ]
     },
     "metadata":{
      
     },
     "output_type":"display_data"
    }
   ],
   "metadata":{
    "datalore":{
     "type":"CODE",
     "hide_input_from_viewers":false,
     "hide_output_from_viewers":false
    }
   }
  },
  {
   "cell_type":"code",
   "source":[
    "#Applies a sum to the topUsers after grouping it up by userId\n",
    "tempTopUsersRating = topUsersRating.groupby('movieId').sum()[['similarityIndex','weightedRating']]\n",
    "tempTopUsersRating.columns = ['sum_similarityIndex','sum_weightedRating']\n",
    "tempTopUsersRating.head()"
   ],
   "execution_count":27,
   "outputs":[
    {
     "data":{
      "text\/html":[
       "<div>\n",
       "<style scoped>\n",
       "    .dataframe tbody tr th:only-of-type {\n",
       "        vertical-align: middle;\n",
       "    }\n",
       "\n",
       "    .dataframe tbody tr th {\n",
       "        vertical-align: top;\n",
       "    }\n",
       "\n",
       "    .dataframe thead th {\n",
       "        text-align: right;\n",
       "    }\n",
       "<\/style>\n",
       "<table border=\"1\" class=\"dataframe\">\n",
       "  <thead>\n",
       "    <tr style=\"text-align: right;\">\n",
       "      <th><\/th>\n",
       "      <th>sum_similarityIndex<\/th>\n",
       "      <th>sum_weightedRating<\/th>\n",
       "    <\/tr>\n",
       "    <tr>\n",
       "      <th>movieId<\/th>\n",
       "      <th><\/th>\n",
       "      <th><\/th>\n",
       "    <\/tr>\n",
       "  <\/thead>\n",
       "  <tbody>\n",
       "    <tr>\n",
       "      <th>1<\/th>\n",
       "      <td>38.376281<\/td>\n",
       "      <td>140.800834<\/td>\n",
       "    <\/tr>\n",
       "    <tr>\n",
       "      <th>2<\/th>\n",
       "      <td>38.376281<\/td>\n",
       "      <td>96.656745<\/td>\n",
       "    <\/tr>\n",
       "    <tr>\n",
       "      <th>3<\/th>\n",
       "      <td>10.253981<\/td>\n",
       "      <td>27.254477<\/td>\n",
       "    <\/tr>\n",
       "    <tr>\n",
       "      <th>4<\/th>\n",
       "      <td>0.929294<\/td>\n",
       "      <td>2.787882<\/td>\n",
       "    <\/tr>\n",
       "    <tr>\n",
       "      <th>5<\/th>\n",
       "      <td>11.723262<\/td>\n",
       "      <td>27.151751<\/td>\n",
       "    <\/tr>\n",
       "  <\/tbody>\n",
       "<\/table>\n",
       "<\/div>"
      ]
     },
     "metadata":{
      
     },
     "output_type":"display_data"
    }
   ],
   "metadata":{
    "datalore":{
     "type":"CODE",
     "hide_input_from_viewers":false,
     "hide_output_from_viewers":false
    }
   }
  },
  {
   "cell_type":"code",
   "source":[
    "#Creates an empty dataframe\n",
    "recommendation_df = pd.DataFrame()\n",
    "#Now we take the weighted average\n",
    "recommendation_df['weighted average recommendation score'] = tempTopUsersRating['sum_weightedRating']\/tempTopUsersRating['sum_similarityIndex']\n",
    "recommendation_df['movieId'] = tempTopUsersRating.index\n",
    "recommendation_df.head()"
   ],
   "execution_count":29,
   "outputs":[
    {
     "data":{
      "text\/html":[
       "<div>\n",
       "<style scoped>\n",
       "    .dataframe tbody tr th:only-of-type {\n",
       "        vertical-align: middle;\n",
       "    }\n",
       "\n",
       "    .dataframe tbody tr th {\n",
       "        vertical-align: top;\n",
       "    }\n",
       "\n",
       "    .dataframe thead th {\n",
       "        text-align: right;\n",
       "    }\n",
       "<\/style>\n",
       "<table border=\"1\" class=\"dataframe\">\n",
       "  <thead>\n",
       "    <tr style=\"text-align: right;\">\n",
       "      <th><\/th>\n",
       "      <th>weighted average recommendation score<\/th>\n",
       "      <th>movieId<\/th>\n",
       "    <\/tr>\n",
       "    <tr>\n",
       "      <th>movieId<\/th>\n",
       "      <th><\/th>\n",
       "      <th><\/th>\n",
       "    <\/tr>\n",
       "  <\/thead>\n",
       "  <tbody>\n",
       "    <tr>\n",
       "      <th>1<\/th>\n",
       "      <td>3.668955<\/td>\n",
       "      <td>1<\/td>\n",
       "    <\/tr>\n",
       "    <tr>\n",
       "      <th>2<\/th>\n",
       "      <td>2.518658<\/td>\n",
       "      <td>2<\/td>\n",
       "    <\/tr>\n",
       "    <tr>\n",
       "      <th>3<\/th>\n",
       "      <td>2.657941<\/td>\n",
       "      <td>3<\/td>\n",
       "    <\/tr>\n",
       "    <tr>\n",
       "      <th>4<\/th>\n",
       "      <td>3.000000<\/td>\n",
       "      <td>4<\/td>\n",
       "    <\/tr>\n",
       "    <tr>\n",
       "      <th>5<\/th>\n",
       "      <td>2.316058<\/td>\n",
       "      <td>5<\/td>\n",
       "    <\/tr>\n",
       "  <\/tbody>\n",
       "<\/table>\n",
       "<\/div>"
      ]
     },
     "metadata":{
      
     },
     "output_type":"display_data"
    }
   ],
   "metadata":{
    "datalore":{
     "type":"CODE",
     "hide_input_from_viewers":false,
     "hide_output_from_viewers":false
    }
   }
  },
  {
   "cell_type":"markdown",
   "source":[
    "Now let's sort it and see the top 20 movies that the algorithm recommended!"
   ],
   "attachments":{
    
   },
   "metadata":{
    "datalore":{
     "type":"MD",
     "hide_input_from_viewers":false,
     "hide_output_from_viewers":false
    }
   }
  },
  {
   "cell_type":"code",
   "source":[
    "recommendation_df = recommendation_df.sort_values(by='weighted average recommendation score', ascending=False)\n",
    "recommendation_df.head(10)"
   ],
   "execution_count":30,
   "outputs":[
    {
     "data":{
      "text\/html":[
       "<div>\n",
       "<style scoped>\n",
       "    .dataframe tbody tr th:only-of-type {\n",
       "        vertical-align: middle;\n",
       "    }\n",
       "\n",
       "    .dataframe tbody tr th {\n",
       "        vertical-align: top;\n",
       "    }\n",
       "\n",
       "    .dataframe thead th {\n",
       "        text-align: right;\n",
       "    }\n",
       "<\/style>\n",
       "<table border=\"1\" class=\"dataframe\">\n",
       "  <thead>\n",
       "    <tr style=\"text-align: right;\">\n",
       "      <th><\/th>\n",
       "      <th>weighted average recommendation score<\/th>\n",
       "      <th>movieId<\/th>\n",
       "    <\/tr>\n",
       "    <tr>\n",
       "      <th>movieId<\/th>\n",
       "      <th><\/th>\n",
       "      <th><\/th>\n",
       "    <\/tr>\n",
       "  <\/thead>\n",
       "  <tbody>\n",
       "    <tr>\n",
       "      <th>5073<\/th>\n",
       "      <td>5.0<\/td>\n",
       "      <td>5073<\/td>\n",
       "    <\/tr>\n",
       "    <tr>\n",
       "      <th>3329<\/th>\n",
       "      <td>5.0<\/td>\n",
       "      <td>3329<\/td>\n",
       "    <\/tr>\n",
       "    <tr>\n",
       "      <th>2284<\/th>\n",
       "      <td>5.0<\/td>\n",
       "      <td>2284<\/td>\n",
       "    <\/tr>\n",
       "    <tr>\n",
       "      <th>26801<\/th>\n",
       "      <td>5.0<\/td>\n",
       "      <td>26801<\/td>\n",
       "    <\/tr>\n",
       "    <tr>\n",
       "      <th>6776<\/th>\n",
       "      <td>5.0<\/td>\n",
       "      <td>6776<\/td>\n",
       "    <\/tr>\n",
       "    <tr>\n",
       "      <th>6672<\/th>\n",
       "      <td>5.0<\/td>\n",
       "      <td>6672<\/td>\n",
       "    <\/tr>\n",
       "    <tr>\n",
       "      <th>3759<\/th>\n",
       "      <td>5.0<\/td>\n",
       "      <td>3759<\/td>\n",
       "    <\/tr>\n",
       "    <tr>\n",
       "      <th>3769<\/th>\n",
       "      <td>5.0<\/td>\n",
       "      <td>3769<\/td>\n",
       "    <\/tr>\n",
       "    <tr>\n",
       "      <th>3775<\/th>\n",
       "      <td>5.0<\/td>\n",
       "      <td>3775<\/td>\n",
       "    <\/tr>\n",
       "    <tr>\n",
       "      <th>90531<\/th>\n",
       "      <td>5.0<\/td>\n",
       "      <td>90531<\/td>\n",
       "    <\/tr>\n",
       "  <\/tbody>\n",
       "<\/table>\n",
       "<\/div>"
      ]
     },
     "metadata":{
      
     },
     "output_type":"display_data"
    }
   ],
   "metadata":{
    "datalore":{
     "type":"CODE",
     "hide_input_from_viewers":false,
     "hide_output_from_viewers":false
    }
   }
  },
  {
   "cell_type":"code",
   "source":[
    "movies_df.loc[movies_df['movieId'].isin(recommendation_df.head(10)['movieId'].tolist())]"
   ],
   "execution_count":1,
   "outputs":[
    {
     "ename":"NameError",
     "evalue":"NameError: name 'movies_df' is not defined",
     "traceback":[
      "\u001b[0;31m---------------------------------------------------------------------------",
      "Traceback (most recent call last)",
      "    at line 1 in <module>",
      "NameError: name 'movies_df' is not defined"
     ],
     "output_type":"error"
    }
   ],
   "metadata":{
    "datalore":{
     "type":"CODE",
     "hide_input_from_viewers":false,
     "hide_output_from_viewers":false
    }
   }
  },
  {
   "cell_type":"markdown",
   "source":[
    "### Advantages and Disadvantages of Collaborative Filtering\n",
    "\n",
    "##### Advantages\n",
    "\n",
    "*   Takes other user's ratings into consideration\n",
    "*   Doesn't need to study or extract information from the recommended item\n",
    "*   Adapts to the user's interests which might change over time\n",
    "\n",
    "##### Disadvantages\n",
    "\n",
    "*   Approximation function can be slow\n",
    "*   There might be a low amount of users to approximate\n",
    "*   Privacy issues when trying to learn the user's preferences"
   ],
   "attachments":{
    
   },
   "metadata":{
    "datalore":{
     "type":"MD",
     "hide_input_from_viewers":false,
     "hide_output_from_viewers":false
    }
   }
  },
  {
   "cell_type":"markdown",
   "source":[
    "<h2>Want to learn more?<\/h2>\n",
    "\n",
    "IBM SPSS Modeler is a comprehensive analytics platform that has many machine learning algorithms. It has been designed to bring predictive intelligence to decisions made by individuals, by groups, by systems – by your enterprise as a whole. A free trial is available through this course, available here: <a href=\"https:\/\/www.ibm.com\/analytics\/spss-statistics-software?utm_medium=Exinfluencer&utm_source=Exinfluencer&utm_content=000026UJ&utm_term=10006555&utm_id=NA-SkillsNetwork-Channel-SkillsNetworkCoursesIBMDeveloperSkillsNetworkML0101ENSkillsNetwork20718538-2021-01-01\">SPSS Modeler<\/a>\n",
    "\n",
    "Also, you can use Watson Studio to run these notebooks faster with bigger datasets. Watson Studio is IBM's leading cloud solution for data scientists, built by data scientists. With Jupyter notebooks, RStudio, Apache Spark and popular libraries pre-packaged in the cloud, Watson Studio enables data scientists to collaborate on their projects without having to install anything. Join the fast-growing community of Watson Studio users today with a free account at <a href=\"https:\/\/www.ibm.com\/cloud\/watson-studio?utm_medium=Exinfluencer&utm_source=Exinfluencer&utm_content=000026UJ&utm_term=10006555&utm_id=NA-SkillsNetwork-Channel-SkillsNetworkCoursesIBMDeveloperSkillsNetworkML0101ENSkillsNetwork20718538-2021-01-01\">Watson Studio<\/a>"
   ],
   "attachments":{
    
   },
   "metadata":{
    "datalore":{
     "type":"MD",
     "hide_input_from_viewers":false,
     "hide_output_from_viewers":false
    }
   }
  },
  {
   "cell_type":"markdown",
   "source":[
    "### Thank you for completing this lab!\n",
    "\n",
    "## Author\n",
    "\n",
    "Saeed Aghabozorgi\n",
    "\n",
    "### Other Contributors\n",
    "\n",
    "<a href=\"https:\/\/www.linkedin.com\/in\/joseph-s-50398b136\/?utm_medium=Exinfluencer&utm_source=Exinfluencer&utm_content=000026UJ&utm_term=10006555&utm_id=NA-SkillsNetwork-Channel-SkillsNetworkCoursesIBMDeveloperSkillsNetworkML0101ENSkillsNetwork20718538-2021-01-01\" target=\"_blank\">Joseph Santarcangelo<\/a>\n",
    "\n",
    "## Change Log\n",
    "\n",
    "| Date (YYYY-MM-DD) | Version | Changed By | Change Description                 |\n",
    "| ----------------- | ------- | ---------- | ---------------------------------- |\n",
    "| 2020-11-03        | 2.1     | Lakshmi    | Updated URL of csv                 |\n",
    "| 2020-08-27        | 2.0     | Lavanya    | Moved lab to course repo in GitLab |\n",
    "|                   |         |            |                                    |\n",
    "|                   |         |            |                                    |\n",
    "\n",
    "## <h3 align=\"center\"> © IBM Corporation 2020. All rights reserved. <h3\/>"
   ],
   "attachments":{
    
   },
   "metadata":{
    "datalore":{
     "type":"MD",
     "hide_input_from_viewers":false,
     "hide_output_from_viewers":false
    }
   }
  }
 ],
 "metadata":{
  "datalore":{
   "version":1,
   "computation_mode":"JUPYTER",
   "package_manager":"pip",
   "base_environment":"default",
   "packages":[
    
   ]
  }
 },
 "nbformat":4,
 "nbformat_minor":4
}